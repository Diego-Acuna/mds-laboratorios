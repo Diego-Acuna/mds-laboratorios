{
  "cells": [
    {
      "cell_type": "markdown",
      "metadata": {
        "cell_id": "097fce6dce21405c911254a775ae3d26",
        "deepnote_cell_type": "markdown",
        "id": "J4_IcuuKZj9Y"
      },
      "source": [
        "<h1><center>Laboratorio 1: Git 👾</center></h1>\n",
        "\n",
        "<center><strong>MDS7202: Laboratorio de Programación Científica para Ciencia de Datos - Primavera 2025</strong></center>"
      ]
    },
    {
      "cell_type": "markdown",
      "metadata": {
        "cell_id": "9e8e8f2ae34e461da4f44508a96d2cf4",
        "deepnote_cell_type": "markdown",
        "id": "AEXIACc7aADv"
      },
      "source": [
        "### Cuerpo Docente:\n",
        "\n",
        "- Profesores: Diego Cortez, Gabriel Iturra\n",
        "- Auxiliares: Melanie Peña, Valentina Rojas\n",
        "- Ayudantes: Nicolás Cabello, Cristopher Urbina"
      ]
    },
    {
      "cell_type": "markdown",
      "metadata": {
        "cell_id": "3e5b48c23e1b48f6a64de41899166179",
        "deepnote_cell_type": "markdown",
        "id": "0HgMMyoCaG8X"
      },
      "source": [
        "### Equipo: **SUPER IMPORTANTE - notebooks sin nombre no serán revisados**\n",
        "\n",
        "- Nombre de alumno 1: Tomás Ramírez \n",
        "- Nombre de alumno 2: Diego Acuña"
      ]
    },
    {
      "cell_type": "markdown",
      "metadata": {
        "cell_id": "1db7c82b68614d19b112ba3b0d0abe4d",
        "deepnote_cell_type": "markdown",
        "id": "fz77X6glaK6y"
      },
      "source": [
        "### **Link de repositorio de GitHub:** [Repositorio de GitHub](https://github.com/Diego-Acuna/mds-laboratorios)"
      ]
    },
    {
      "cell_type": "markdown",
      "metadata": {
        "cell_id": "bc3dac65089d4ae6a43c079547dee179",
        "deepnote_cell_type": "markdown",
        "id": "rRwqaxIZaNx3"
      },
      "source": [
        "## Reglas:\n",
        "\n",
        "- **Grupos de 2 personas**\n",
        "- Fecha de entrega: Entregas Martes a las 23:59.\n",
        "- Instrucciones del lab el viernes a las 16:15 en formato online. Asistencia no es obligatoria, pero se recomienda **fuertemente** asistir.\n",
        "- <u>Prohibidas las copias</u>. Cualquier intento de copia será debidamente penalizado con el reglamento de la escuela.\n",
        "- Tienen que subir el laboratorio a u-cursos y a su repositorio de github. Labs que no estén en u-cursos no serán revisados. Recuerden que el repositorio también tiene nota.\n",
        "- Cualquier duda fuera del horario de clases al foro. Mensajes al equipo docente serán respondidos por este medio.\n",
        "- Pueden usar cualquier material del curso que estimen conveniente."
      ]
    },
    {
      "cell_type": "markdown",
      "metadata": {
        "cell_id": "05e4729411a24153837fd13b7f198bd9",
        "deepnote_cell_type": "markdown",
        "id": "bmToL27JaSrf"
      },
      "source": [
        "## Objetivos del lab:\n",
        "\n",
        "\n",
        "- Conocer los elementos básicos que conformar `Git`\n",
        "- Clonar repositorios\n",
        "- Identificar ramas de un repositorio\n",
        "- Reconocer y solucionar problemas entre ramas\n",
        "- Subir cambios a un repositorio"
      ]
    },
    {
      "cell_type": "markdown",
      "metadata": {
        "cell_id": "5ebae9d601bd4d508349ab55297e9f82",
        "deepnote_cell_type": "markdown",
        "id": "bvnPCvrVbJLK"
      },
      "source": [
        "## Parte 1: Conocimiento Teórico (2.5 pts)\n",
        "\n",
        "<p align=\"center\">\n",
        "  <img src=\"https://cdn.thedesigninspiration.com/wp-content/uploads/sites/3/2019/04/macintosh-hdusersbrittanyloefflerdownloadsanig-1.gif\" width=\"350\">\n",
        "</p>"
      ]
    },
    {
      "cell_type": "markdown",
      "metadata": {
        "cell_id": "627494dba4f84520b3ee8b9cbf58ee79",
        "deepnote_cell_type": "markdown",
        "id": "JHl-24XnbNLF"
      },
      "source": [
        "Responda las siguientes preguntas (0.2 pts c/u):\n",
        "\n",
        "1. ¿Qué es `Git` y cómo se relaciona con el control de versiones?\n",
        "\n",
        "2. Nombre y explique 3 diferencias entre `Git` y `Github`.\n",
        "\n",
        "3. ¿Qué es un `hash` y cómo se representa en un `commit`? De un ejemplo.\n",
        "\n",
        "4. ¿Que elementos componen a la estructura de datos de `Git`?\n",
        "\n",
        "5. ¿Que comandos de `Git` sirven para crear un repositorio y hacer seguimiento a cambios en los archivos?"
      ]
    },
    {
      "cell_type": "markdown",
      "metadata": {
        "cell_id": "6d06c40f429044a298b27c666f51f46f",
        "deepnote_cell_type": "markdown",
        "id": "2tXCSkf0caG8"
      },
      "source": [
        "<code>Escriba sus respuestas acá:</code>\n",
        "\n",
        "1. Git es un sistema de control de versiones distribuido (DVCS). Al ser un sistema de control de versiones esto significa que Git es un sistema que registra los cambios realizados en un archivo o conjunto de archivos (es decir, en un proyecto) a medida que pasa el tiempo. El ser distribuido significa que existe un servidor central y los distintos clientes del sistema tienen acceso a una copia completa de todos los datos del proyecto en el que se está trabajando. Además, el servidor puede seguir recibiendo actualizaciones a medida que los distintos clientes del sistema están trabajando en sus copias, lo cual permite establecer varios flujos de trabajo que no son posibles en sistemas de control de versiones centralizados.\n",
        "\n",
        "2. Se tienen por ejemplo las siguientes tres diferencias:\n",
        "\n",
        "    **(a) Naturaleza de la herramienta**\n",
        "    - **Git:** Es un DVCS. Su función es permitir registrar el historial de cambios de un proyecto, trabajar en diferentes ramas, comparar versiones y fusionar código.\n",
        "    - **Github:** Es un servicio de alojamiento basado en web que aloja repositorios Git en la nube. Su objetivo es facilitar la colaboración entre desarrolladores.\n",
        "\n",
        "    **(b) Forma de uso**\n",
        "    - **Git:** Es una herramienta de línea de comandos. Es más técnico y requiere aprender la sintaxis.\n",
        "    - **Github:** Ofrece una interfaz gráfica. Es decir, es más amigable de usar y no requiere aprender sintaxis tan técnica. De todas maneras igual se puede usar la terminal para interactuar con Github, pero la plataforma agrega una capa más visual y colaborativa.\n",
        "\n",
        "    **(c) Alcance de los repositorios**\n",
        "    - **Git:** Trabaja principalmente demanera local. Es decir, tanto el repositorio como su historial se guardan de forma local. Se puede llevar control total del repositorio sin necesidad de Internet.\n",
        "    - **Github:** Permite subir a la nube los repositorios creados con Git, con el fin de compartir éste con otras personas. Gracias a esto se pueden clonar repositorios, hacer contribuciones remotas y trabajar en equipo.\n",
        "\n",
        "3. Un hash es una cadena de longitud fija que se obtiene como resultado de aplicarle una función de hash a una cierta entrada. \n",
        "\n",
        "    En el caso de Git, un hash puede apuntar a un blob, un commit o un árbol, y se utiliza la función de hash SHA1, la cual da como resultado una cadena de 40 caracteres (donde cada caracter es un número del $0$ al $9$ o una letra de la a a la f). De esta manera, un hash en Git es un identificador único que se genera aplicando el algoritmo SHA1 sobre el contenido del commit. Esto significa que cada commit se representa por un hash.\n",
        "\n",
        "    A modo de ejemplo, supongamos que hacemos un commit:\n",
        "\n",
        "    <code>git commit -m \"(fix) Se arregla un bug al momento de hacer login.\"</code>\n",
        "\n",
        "    Git podría generar un hash como:\n",
        "\n",
        "    <code>commit 2346ad27d7568ba9896f1b7da6b5991251debf2</code>\n",
        "\n",
        "4. La estructura de datos de Git está compuesta por blobs, árboles y commits.\n",
        "\n",
        "    Un blob representa el contenido de un archivo. Si se modifica un archivo, un nuebo blob almacenará el archivo completo modificado. Es decir, los blobs son estructuras que almacenan el contenido de un archivo en cierto momento. Son estáticos.\n",
        "    \n",
        "    Un árbol representa un directorio, el cual contiene punteros a blobs (archivos) y a otros árboles (subdirectorios). Se puede pensar como el índice que organiza el contenido de un proyecto de forma jerárquica.\n",
        "\n",
        "    Un commit representa un estado del proyecto en un punto del tiempo. Éste contiene un puntero a un árbol (la raíz del proyecto en ese commit), y este árbol raíz tiene a su vez punteros hacia blobs y otros árboles.\n",
        "\n",
        "5. Para crear un repositorio desde cero se utiliza el comando <code>git init</code>. Por otro lado, para crear un repositorio (i.e. copiar un repositorio a tu almacenamiento local desde algún sevidor de git) se utiliza el comando <code>git clone</code>. Por ejemplo:\n",
        "\n",
        "    <code>git init nombre-del-repositorio</code>\n",
        "\n",
        "    <code>git clone /ruta/al/repositorio.git</code>\n",
        "\n",
        "    Para hacer un seguimiento a cambios en los archivos se utilizan principalmente los siguientes comandos: `git status`, el cual permite tener una idea del estado actual del repositorio; `git add <archivo>`, que permite agregar un archivo a la staging area (es decir el área de los archivos que están listos para ser enviados al repositorio remoto); `git commit -m \"mensaje\"`, que registra los cambios del staging area en el historial del repositorio; `git diff`, que permite obtener una visualización con la cual es posible observar las diferencias entre conjuntos de archivos en el respositorio; y `git log`, que muestra el historial de commits con sus hashes, autores y mensajes.\n",
        "\n"
      ]
    },
    {
      "cell_type": "markdown",
      "metadata": {
        "cell_id": "ec9855406e324cc98b59e33500faea84",
        "deepnote_cell_type": "markdown",
        "id": "MACccbP4gU43"
      },
      "source": [
        "Responda si las siguientes afirmaciones son Verdaderas (V) o Falsas (F). Justifique en **cualquiera** de los casos (0.2 pts c/u):\n",
        "\n",
        "\n",
        "6. `Git` siempre resuelve automáticamente los problemas de lineas al hacer merge entre diferentes ramas.\n",
        "7. Ejecutar `git pull` sobre un repositorio es equivalente a ejecutar `git clone`.\n",
        "8. `git status` genera los mismos resultados que `git log`.\n",
        "9. En `Git` es posible deshacer cambios y volver a versiones anteriores del código.\n",
        "10. El comando `git commit` se utiliza para enviar cambios al repositorio remoto."
      ]
    },
    {
      "cell_type": "markdown",
      "metadata": {
        "cell_id": "7e6a5a6e15b045cc9d104cf017825f1a",
        "deepnote_cell_type": "markdown",
        "id": "DFnmCToOgeM3"
      },
      "source": [
        "<code>Escriba sus respuestas acá:</code>\n",
        "\n",
        "6. **Falso**. Cuando existen colisiones al hacer merge entre distintas ramas, éstos se deben resolver a mano y luego subir los cambios. Git detecta los conflictos pero no los resuelve de manera propia.\n",
        "\n",
        "7. **Falso**. El comando `git clone` se ocupa solo la primera vez que se quiere copiar un repositorio remoto. Este comando crea una carpeta local con toda la información del repositorio remoto. Por otra parte, el comando `git pull` se ocupa una vez ya se tiene el repositorio copiado localmente. Éste sirve para descargar los cambios más recientes del repositorio remoto y fusionarlos con la rama local que uno ya tiene.\n",
        "\n",
        "8. **Falso**. El comando `git status` muestra el estado **actual** del proyecto. Es decir, los archivos modificados, los archivos que están listos para ser commiteados (en la staging area), y los archivos que aún no están trackeados (es decir, los cuales no se han agregado a la staging area aún). Por otro lado, el comando `git log` muestra un historial de todos los commits hechos anteriormente. Incluye información del hash de cada commit, el autor, la fecha y el mensaje.\n",
        "\n",
        "9. **Verdadero**. Con el comando `git reset` se pueden eliminar archivos del staging area si aún no han sido commiteados. Además, con el comando `git checkout` se pueden deshacer cambios de un archivo, volver a una versión (commit) anterior de un archivo, y/o retornar todos los archivos al commit anterior.\n",
        "\n",
        "10. **Verdadero**. El objetivo del comando `git commit` es justamente ese: enviar los archivos cambiados del staging area al repositorio remoto. Además, junto a este envío se puede añadir un mensaje explicando qué cambios fueron hechos en tal envío."
      ]
    },
    {
      "cell_type": "markdown",
      "metadata": {
        "cell_id": "54317cad024744ebaf4938df55ba3b95",
        "deepnote_cell_type": "markdown",
        "id": "LYq55sI2Rjf0"
      },
      "source": [
        "Por último, investigue y comente con sus palabras para qué sirven los siguientes comandos:\n",
        "\n",
        "11. `git stash` (0.25 puntos)\n",
        "\n",
        "    Este comando sirve para guardar temporalmente cambios que todavía no están listos para ser commiteados al repositorio remoto, de modo que se puede dejar el repositorio local limpio y recuperar aquellos cambios cuando sea necesario. Por ejemplo, si se está trabajando en una rama A y se tiene desarrollada cierta funcionalidad X de manera parcial, pero se necesita cambiar a la rama B para arreglar un bug de forma urgente, uno puede ocupar el comando `git stash` en la rama A, de manera de dejar \"congelados\" los cambios en la funcionalidad X, luego cambiar a la rama B, arreglar el bug, hacer commit de este bug, y luego volver a la rama A para seguir trabajando en la funcionalidad X (los cambios son recuperados con el comando `git stash pop`).\n",
        "12. `git reset`. ¿Cuál es la diferencia de este comando con `git revert`?. (0.25 puntos)\n",
        "\n",
        "    Este comando sirve para borrar commits moviendo el puntero de la rama (HEAD) a otro commit. Dependiendo de la opción puede afectar o no a la staging area y/o al directorio de trabajo. La diferencia con `git reset` es que este último no borra commits, si no que genera un nuevo commit que deshace los cambios de un commit anterior sin borrar el historial de commits. Es decir, `git reset` elimina commits, mientras que `git revert` no."
      ]
    },
    {
      "cell_type": "markdown",
      "metadata": {
        "cell_id": "3e4d8b9974e4426ca38fd20f4b835a55",
        "deepnote_cell_type": "markdown",
        "id": "i7Em9JkbbRLo"
      },
      "source": [
        "## Parte 2: Creando una presentación personal (1.5 pts)\n",
        "\n",
        "<p align=\"center\">\n",
        "  <img src=\"https://media.tenor.com/arqlNu8gyJYAAAAC/cat-cat-jumping.gif\" width=\"150\">\n",
        "</p>\n",
        "\n"
      ]
    },
    {
      "cell_type": "markdown",
      "metadata": {
        "cell_id": "988648005dba4b9782c6625dfe6ae4ef",
        "deepnote_cell_type": "markdown",
        "id": "XWIHfyrlbYOJ"
      },
      "source": [
        "Para empezar a \"*soltar las manos*\" con `Git`, se les encomienda crear un repositorio con una presentación personal. El repositorio debe contener un breve resumen de quienes son ustedes, sus gustos, experiencias, y cualquier otro detalle interesante que ustedes consideren relevante.\n",
        "\n",
        "Para realizar esto, deben seguir los siguientes pasos:\n",
        "\n",
        "1. Contar con una cuenta de github (1 por persona)\n",
        "2. Crear un repositorio con su nombre de usuario\n",
        "3. Vincular el repositorio a su ambiente local ¿Qué comando(s) me permiten hacer esto?\n",
        "4. Crear un archivo `readme.md` con la información que ustedes deseen compartir.\n",
        "5. Realizar `push` con los cambios generados\n",
        "\n",
        "\n",
        "**Nota: Deben trabajar todos estos puntos desde su ambiente local**\n",
        "\n",
        "*Hint: Una buena opción es usar templates de presentación personal que encuentren en Google, como los que ofrece este [sitio](https://durgeshsamariya.github.io/awesome-github-profile-readme-templates/#/)*.\n",
        "\n",
        "**Entregable:**\n",
        "\n",
        "Enlace al repositorio con la presentación personal.\n",
        "\n",
        "IMPORTANTE: DEBEN ADJUNTAR UN ENLACE POR PERSONA"
      ]
    },
    {
      "cell_type": "markdown",
      "metadata": {
        "cell_id": "081b38d55dc54282bc8e3cd300ce9d3e",
        "deepnote_cell_type": "markdown",
        "id": "IIkWyl9tf0Sg"
      },
      "source": [
        "<code>Link Presentacion 1:</code> https://github.com/tomasramirezm/tomasramirezm\n",
        "\n",
        "<code>Link Presentacion 2:</code> https://github.com/Diego-Acuna/Diego-Acuna\n",
        "\n",
        "Sobre el punto 3, el comando que permite hacer esto es `git clone <url-al-repositorio>`."
      ]
    },
    {
      "cell_type": "markdown",
      "metadata": {
        "cell_id": "0481a05d2d1a46928f6cfb7762720980",
        "deepnote_cell_type": "markdown",
        "id": "CAzXOwvDY-IG"
      },
      "source": [
        "## Parte 3: Trabajando sobre un repositorio externo (2 pts)\n",
        "\n",
        "<p align=\"center\">\n",
        "  <img src=\"https://media.tenor.com/YXL-0SK15j4AAAAC/dance-animals.gif\" width=\"300\">\n",
        "</p>\n",
        "\n",
        "Tras muchos dolores de cabeza, un grupo de entusiastas académicos decidieron aprender sobre `Git` y así trabajar colaborativamente de forma más ordenada y eficiente. Después de una infinidad de intentos y aprender de sus errores \"*a la mala*\", los académicos lograron levantar un [repositorio](https://github.com/MDS7202/lab1) en `Github`. Usando el repositorio de los académicos, responda las siguientes preguntas (**incluya también los comandos en `Git` ocupados**):\n"
      ]
    },
    {
      "cell_type": "markdown",
      "metadata": {
        "cell_id": "bcef73b2e8604579bde90ed6622abfe9",
        "deepnote_cell_type": "markdown",
        "id": "BFRnAw0rfguR"
      },
      "source": [
        "1. Clone el repositorio a su ambiente local. (0.25 pts)"
      ]
    },
    {
      "cell_type": "markdown",
      "metadata": {
        "cell_id": "5d126ac3819c44479af94d3895bc4c97",
        "deepnote_cell_type": "markdown",
        "id": "KXro32yBeilN"
      },
      "source": [
        "<code>Escriba sus respuestas acá:</code>\n",
        "\n",
        "Para clonar el repositorio al ambiente local se usa el comando `git clone https://github.com/MDS7202/lab1.git`."
      ]
    },
    {
      "cell_type": "markdown",
      "metadata": {
        "cell_id": "e215e4e25b2440f09ac273ba63603986",
        "deepnote_cell_type": "markdown",
        "id": "8QB-GKmQRjf1"
      },
      "source": [
        "2. Descomprima los archivos subidos con la tarea en U-cursos en la carpeta recién clonada de github. Una vez realizado esto, cree un archivo `.gitignore` con el cual omita la carpeta `videos` y los archivos con la extensión `.txt` exceptuando el archivo `171.txt` de la carpeta `texts`. (0.25 pts)"
      ]
    },
    {
      "cell_type": "markdown",
      "metadata": {
        "cell_id": "186233b44d004e3bbd86262d010188b5",
        "deepnote_cell_type": "markdown",
        "id": "7VJ8IIYpRjf1"
      },
      "source": [
        "<code>Para esta pregunta usted deberá adjuntar el .gitignore creado en su repo.</code>\n",
        "\n",
        "Creamos el archivo .gitignore con el comando `touch .gitignore`, y podemos editar su contenido con `nano .gitignore`. El archivo `.gitignore` generado es el siguiente:\n",
        "\n",
        "<pre><code>\n",
        "# Ignoramos la carpeta videos\n",
        "videos/\n",
        "\n",
        "# Ignoramos los archivos .txt\n",
        "*.txt\n",
        "\n",
        "# No ignoramos el archivo 171.txt\n",
        "!texts/171.txt\n",
        "</code></pre>\n"
      ]
    },
    {
      "cell_type": "markdown",
      "metadata": {
        "cell_id": "1de150590a41484a988b8e46616a2324",
        "deepnote_cell_type": "markdown",
        "id": "q2qmiDyjt2M_"
      },
      "source": [
        "3. Inspeccione brevemente el repositorio: ¿Cual es el objetivo del proyecto? Explique brevemente la estructura del proyecto, asi como también cada elemento que lo conforma. (0.25 pts)"
      ]
    },
    {
      "cell_type": "markdown",
      "metadata": {
        "cell_id": "082ca01c865e48e28352b280400c47b6",
        "deepnote_cell_type": "markdown",
        "id": "aBHpR8VTftkT"
      },
      "source": [
        "<code>Escriba sus respuestas acá:</code>\n",
        "\n",
        "El objetivo del proyecto es emular los sonidos de los animales. Éste está compuesto de tres archivos: el archivo `animales.py`, el cual contiene una función que recibe el nombre de un animal y devuelve o bien el sonido que hace, o bien un mensaje diciendo que no se reconoció tal animal; el archivo `main.py`, en la cual está la función main que le pide un input al usuario y luego corre la función del archivo `animales.py` para devolver el sonido del animal que puso como input el usuario; y el archivo `readme.md`, el cual contiene información sobre lo que consiste el proyecto."
      ]
    },
    {
      "cell_type": "markdown",
      "metadata": {
        "cell_id": "3aab4a3ee0c246e1be955680ad653fb8",
        "deepnote_cell_type": "markdown",
        "id": "XFwqcpLZfylf"
      },
      "source": [
        "4. Identifique los últimos cambios al repositorio, reconociendo las principales ramas de trabajo. ¿Son informativos los `commit` realizados? (0.25 pts)\n",
        "*Hint: Se recomienda usar los argumentos `all`, `graph` y `decorate`*"
      ]
    },
    {
      "cell_type": "markdown",
      "metadata": {
        "cell_id": "0fab79a360ac4c6a9ca0ab884f85c7e1",
        "deepnote_cell_type": "markdown",
        "id": "cmWfXBkOhog0"
      },
      "source": [
        "<code>Escriba sus respuestas acá:</code>\n",
        "\n",
        "Para identificar los últimos cambios al repositorio podemos usar el comando `git log`. Siguiendo la indicación podemos usar `git log --all --graph --decorate`. Acá podemos notar que está la rama `main`, la rama `new_features` y la rama `fix-ifs`.\n",
        "\n",
        "Hay algunos commits que son informativos y otros que no. En primer lugar, el que dice \"primer commit\" sí lo es, pues se entiende que es el primer commit que se hizo para inicializar el proyecto. Luego, el commit que dice \"se agrega funcion\" no lo es, pues no se especifica qué función se agrega, ni el nombre, ni lo que hace. El commit que dice \"Se separa el proyecto en modulos\" sí es bastante informativo, se entiende lo que se hizo. Finalmente, el commit que dice \"fix ifs\" está en un punto medio. Se entiende que se arreglaron algunos \"if\" del proyecto, pero se podría ser más informativo diciendo por ejemplo en qué archivo se arreglaron estos if."
      ]
    },
    {
      "cell_type": "markdown",
      "metadata": {
        "cell_id": "d07b24d21f2343fb9a7e6a5db74e98c3",
        "deepnote_cell_type": "markdown",
        "id": "Vqbj9HdXrUnN"
      },
      "source": [
        "5. Uno de los académicos se da cuenta que la rama principal de trabajo no se ejecuta correctamente para todos los argumentos. Señale y explique el error en el código e identifique a la persona que lo cometió usando `git blame` (0.25 pts)\n",
        "\n",
        "*Hint: Le puede ser útil esta [documentación](https://www.atlassian.com/es/git/tutorials/inspecting-a-repository/git-blame).*"
      ]
    },
    {
      "cell_type": "markdown",
      "metadata": {
        "cell_id": "bc5b0f9c639643108f8e66687b721732",
        "deepnote_cell_type": "markdown",
        "id": "5ajhV2Iar3tV"
      },
      "source": [
        "<code>Escriba sus respuestas acá:</code>\n",
        "\n",
        "El error está en la función `animales(input)` del archivo `animales.py`, pues se ocupan `if` todo el rato en vez de `elif`. Esto hace que si alguien ingresa un animal válido distinto de \"fox\", como por ejemplo \"gato\", se imprima \"miau\" en pantalla, pero luego como \"gato\" no es igual a \"fox\", se vaya al `else` del código, mostrando el error de \"animal no reconocido :(\". \n",
        "\n",
        "Para ver quién cometió este error podemos usar el comando `git blame animales.py`, de donde obtenemos que el responsable es el usuario de nombre mezosky y correo <ignacio.meza@ug.uchile.cl>."
      ]
    },
    {
      "cell_type": "markdown",
      "metadata": {
        "cell_id": "f3f4e78e6d9145ebbb120c0a2e4aade6",
        "deepnote_cell_type": "markdown",
        "id": "m8J3uE7MhqTA"
      },
      "source": [
        "6. Busque los siguientes `commit`:\n",
        "\n",
        "- `c8b1a62d7299552b0654f930d695b33109214111`\n",
        "- `362fe21ee44f53ee944cee4ba484600308f83d78`\n",
        "- `25543a3baf77292baf849726784ca005473acab1`\n",
        "\n",
        "¿Qué diferencias existen entre cada uno? (0.25 pts)"
      ]
    },
    {
      "cell_type": "markdown",
      "metadata": {
        "cell_id": "696ed361ac0c41c8a214cfad9dcb39e6",
        "deepnote_cell_type": "markdown",
        "id": "sNHnZsgIitGh"
      },
      "source": [
        "<code>Escriba sus respuestas acá:</code>\n",
        "\n",
        "Para buscar los commits se puede utilizar el comando `git show hash-co,mit`, donde hash-commit es el hash del commit que se quiere buscar.\n",
        "\n",
        "En el primer commit se trabaja en la rama `main`. Se agrega la función `animales` dentro de `main.py` y la llama.\n",
        "\n",
        "En el segundo commit se trabaja en la rama `main`. Se mueve la función `animales` al archivo `animales.py` y `main.py` se modifica para pedirle un input al usuario y luego llamar a la función `animales`.\n",
        "\n",
        "En el tercer commit se trabaja en la rama `fix-ifs`. Acá se corrige el error en la función `animales` del archivo `animales.py`. Sin embargo, este cambio queda solo en la rama fix-ifs y en ningún momento se sube a la rama main."
      ]
    },
    {
      "cell_type": "markdown",
      "metadata": {
        "cell_id": "b4e18f8ce94c430f85915c4e2732d05b",
        "deepnote_cell_type": "markdown",
        "id": "WQIPbfNCgpxC"
      },
      "source": [
        "7. Realice una `merge` de la rama `fix-ifs` con la rama `main` y describa lo que ocurre. ¿Qué parte del código podría estar ocasionando esto? (0.25 pts)"
      ]
    },
    {
      "cell_type": "markdown",
      "metadata": {
        "cell_id": "36da6a0d4f4a427bbccac09e2ae965fd",
        "deepnote_cell_type": "markdown",
        "id": "ypH_6lL5ioZz"
      },
      "source": [
        "<code>Escriba sus respuestas acá:</code>\n",
        "\n",
        "Para hacer el merge usamos el comando `git merge origin/fix-ifs`. Al hacer esto se puede notar que hay un conflicto en `main.py`. Este conflicto es porque en la rama `main` la función `animales()` se movió al archivo `animales.py` y en el archivo `main.py` quedó el resto de la lógica. Por otro lado, en la rama `fix-ifs` la misma función sigue en `main.py`, pero se modificaron los `if` por `elif`."
      ]
    },
    {
      "cell_type": "markdown",
      "metadata": {
        "cell_id": "09787ab449c543479e5cc54c2a3b6c19",
        "deepnote_cell_type": "markdown",
        "id": "GYfODCjeivkU"
      },
      "source": [
        "8. Cree una rama nueva y proponga una solución al problema anterior, adjuntando el código corregido y señalando las líneas modificadas. (0.25 pts)"
      ]
    },
    {
      "cell_type": "markdown",
      "metadata": {
        "cell_id": "6d963fba3f2d4c17a4b281c7d3f4fb8b",
        "deepnote_cell_type": "markdown",
        "id": "8heBxDU9iziT"
      },
      "source": [
        "<code>Escriba sus respuestas acá:</code>\n",
        "\n",
        "Podemos crear una rama nueva con el comando `git checkout -b fix-animales`. En esta rama hay que simplemente corregir el error de la función `animales` del archivo `animales.py` reemplazando los `if` por `elif`. Es decir, el código corregido es:\n",
        "<pre><code>\n",
        "def animales(nombre):\n",
        "    if nombre.lower() == 'gato':\n",
        "        print('miau')\n",
        "    elif nombre.lower() == 'perro':     # Línea modificada\n",
        "        print('guau')\n",
        "    elif nombre.lower() == 'fox':       # Línea modificada\n",
        "        print('https://www.youtube.com/watch?v=jofNR_WkoCE')\n",
        "    else:\n",
        "        raise ValueError('animal no reconocido :(')\n",
        "</code></pre>\n",
        "\n",
        "Luego, añadimos los archivos con `git add animales.py` y hacemos el commit con `git commit -m \"(fix) Se arregla la función animales()\"`. Finalmente, usamos `git checkout main` para movernos a la rama principal, y hacemos el merge entre la rama principal y la que acabamos de crear con `git merge fix-animales`."
      ]
    },
    {
      "cell_type": "markdown",
      "metadata": {
        "cell_id": "8a47d4bf8b3045d68e4f29bb449c87f1",
        "deepnote_cell_type": "markdown",
        "id": "Av8ebB9jkALO"
      },
      "source": [
        "## Fin"
      ]
    },
    {
      "cell_type": "markdown",
      "metadata": {
        "cell_id": "cec4b53942ed489f8f8b63d0e9d4f3e5",
        "deepnote_cell_type": "markdown",
        "id": "aQqZT9fSkBK8"
      },
      "source": [
        "Eso ha sido todo por ahora!! Esperamos que este laboratorio les haya gustado y servido para trabajar con `Git`. Recuerden los dias de plazo que tienen disponibles y que ante cualquier duda no duden en contactar al equipo docente.\n",
        "\n",
        "Nos vemos!!\n",
        "\n",
        "<p align=\"center\">\n",
        "  <img src=\"https://media.tenor.com/OYLdav9k9LkAAAAd/kitty-cat.gif\" width=\"350\">\n",
        "</p>\n"
      ]
    }
  ],
  "metadata": {
    "colab": {
      "provenance": []
    },
    "deepnote_execution_queue": [],
    "deepnote_notebook_id": "62cd20d52b9a4810ada15644630456dc",
    "language_info": {
      "name": "python"
    }
  },
  "nbformat": 4,
  "nbformat_minor": 0
}
