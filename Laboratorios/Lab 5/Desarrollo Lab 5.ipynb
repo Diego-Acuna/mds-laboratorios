{
  "cells": [
    {
      "cell_type": "markdown",
      "metadata": {
        "id": "_Tgm8mCA9Dp3"
      },
      "source": [
        "# Laboratorio 5: Clasificación 🤗\n",
        "\n",
        "<center><strong>MDS7202: Laboratorio de Programación Científica para Ciencia de Datos - Primavera 2025</strong></center>\n"
      ]
    },
    {
      "cell_type": "markdown",
      "metadata": {
        "id": "11Kc_ibM9GXH"
      },
      "source": [
        "### Cuerpo Docente:\n",
        "\n",
        "- Profesores: Diego Cortez, Gabriel Iturra\n",
        "- Auxiliares: Melanie Peña, Valentina Rojas\n",
        "- Ayudantes: Nicolás Cabello, Cristopher Urbina"
      ]
    },
    {
      "cell_type": "markdown",
      "metadata": {
        "id": "u9dUSltr9JrN"
      },
      "source": [
        "### Equipo: SUPER IMPORTANTE - notebooks sin nombre no serán revisados\n",
        "\n",
        "- Nombre de alumno 1: Diego Acuña\n",
        "- Nombre de alumno 2: Tomás Ramírez"
      ]
    },
    {
      "cell_type": "markdown",
      "metadata": {
        "id": "pC1IloytrsAx"
      },
      "source": [
        "### **Link de repositorio de GitHub:** [Insertar Repositorio](https://github.com/Diego-Acuna/mds-laboratorios)"
      ]
    },
    {
      "cell_type": "markdown",
      "metadata": {
        "id": "YBa48PDF9OHw"
      },
      "source": [
        "### Temas a tratar\n",
        "- Clasificación en problemas desbalanceados\n",
        "- Lightgbm y xgboost\n",
        "- Pipelines"
      ]
    },
    {
      "cell_type": "markdown",
      "metadata": {
        "id": "mkhnnMx49Qrh"
      },
      "source": [
        "## Reglas:\n",
        "\n",
        "- **Grupos de 2 personas**\n",
        "- Fecha de entrega: Entregas Martes a las 23:59.\n",
        "- Instrucciones del lab el viernes a las 16:15 en formato online. Asistencia no es obligatoria, pero se recomienda **fuertemente** asistir.\n",
        "- <u>Prohibidas las copias</u>. Cualquier intento de copia será debidamente penalizado con el reglamento de la escuela.\n",
        "- Tienen que subir el laboratorio a u-cursos y a su repositorio de github. Labs que no estén en u-cursos no serán revisados. Recuerden que el repositorio también tiene nota.\n",
        "- Cualquier duda fuera del horario de clases al foro. Mensajes al equipo docente serán respondidos por este medio.\n",
        "- Pueden usar cualquier material del curso que estimen conveniente.\n",
        "\n"
      ]
    },
    {
      "cell_type": "markdown",
      "metadata": {
        "id": "sxzJ48Vv8quO"
      },
      "source": [
        "\n",
        "\n",
        "### Objetivos principales del laboratorio\n",
        "- Comprender cómo trabajar con problemas de clasificación con clases desbalanceadas.\n",
        "- Aplicar los modelos lightgbm y xgboost.\n",
        "- Practicar Pipelines"
      ]
    },
    {
      "cell_type": "markdown",
      "metadata": {
        "id": "k-ao0mOU64Ru"
      },
      "source": [
        "# Parte Teórica [12 puntos]\n",
        "\n",
        "\n"
      ]
    },
    {
      "cell_type": "markdown",
      "metadata": {
        "id": "ApXKwPDmxcEV"
      },
      "source": [
        "1. Explique cuál es la diferencia entre los datos de entrenamiento y validación. [1 punto]\n",
        "\n",
        "2. Explique cuál es el principal desafío al trabajar problemas de clasificación con data no supervisada. [1 punto]\n",
        "\n",
        "3. Explique en **sus palabras** qué es la matriz de confusión y para qué se utiliza. [1 puntos]\n",
        "\n",
        "4. Escriba la fórmula de las siguientes métricas y explique con **sus palabras** cómo se interpretan. [1 punto cada uno]\n",
        "\n",
        "  * Accuracy\n",
        "  * Precision\n",
        "  * Recall\n",
        "  * F1 score\n",
        "\n",
        "5. Explique qué métrica recomendaría para los siguientes contextos de clasificación. [1 punto cada uno]\n",
        "\n",
        "  * Mantenimiento predictivo de fallas de maquinaria pesada en la industria minera.  \n",
        "  * Detección de enfermedades altamente contagiosas.\n",
        "  * Aprobación de créditos de alto riesgo.\n",
        "  * Detección de crímenes.\n",
        "\n",
        "6. Explique qué es la calibración de modelos y para qué se usa. [1 punto]\n"
      ]
    },
    {
      "cell_type": "markdown",
      "metadata": {
        "id": "Yy4QMWD8-FPk"
      },
      "source": [
        "**Respuesta:**\n",
        "\n",
        "**Pregunta 1:**\n",
        "\n",
        "- **Entrenamiento (training)**: Es un subconjunto de los datos usado para ajustar el modelo (aprender los parámetros a partir de los datos).  \n",
        "- **Validación (validation)**: Es un subconjunto disjunto del de entrenamiento usado durante el desarrollo para evaluar el desempeño y seleccionar configuraciones/hiperparámetros antes de mirar el test. Es decir, se evalúa cómo aprendió el modelo de los datos de entrenamiento. Esta evaluación se realiza con métricas como Precision, Recall, o F1.\n",
        "\n",
        "**Pregunta 2:**\n",
        "\n",
        "En clasificación se necesitan etiquetas (en clases se define clasificación cuando la variable a predecir es una categoría/etiqueta).  \n",
        "En un escenario no supervisado no hay etiquetas, por lo que el desafío clave es que no existe “verdad terreno” para guiar el ajuste ni para medir el desempeño con las métricas de clasificación.\n",
        "\n",
        "**Pregunta 3:**\n",
        "\n",
        "En un problema de clasificación binaria es una tabla que resume los resultados del clasificador en cuatro conteos: True Positives (TP), False Positives (FP), True Negatives (TN) y False Negatives (FN). En un problema de clasificación multiclase de $n$ clases $c_1,\\dots,c_n$, la matriz de confusión es una matriz de $n\\times n$ tal que en la posición $(i,j)$, con $i,j\\in\\{1,\\dots,n\\}$ está la cantidad de elementos que el modelo predijo que estaba en la clase $c_i$, y que en realidad pertenecían a la clase $c_j$.\n",
        "Sirve para resumir la capacidad predictiva y como base para calcular métricas como accuracy, precision, recall y F1, usando datos no vistos en entrenamiento.\n",
        "\n",
        "**Pregunta 4:**\n",
        "\n",
        "Llamaremos $c_{ij}$ al elemento $(i,j)$ de la matriz de confusión de un problema de clasificación multiclase de $n$ clases.\n",
        "\n",
        "- **Accuracy** \n",
        "  Para clasificación binaria su fórmula es\n",
        "  $$\n",
        "  \\text{accuracy}=\\frac{TP+TN}{TP+FP+TN+FN},\n",
        "  $$ \n",
        "  mientras que para clasificación multiclase es\n",
        "  $$\n",
        "  \\text{accuracy}=\\frac{\\sum_{i=1}^nc_{ii}}{\\sum_{i=1}^n\\sum_{j=1}^nc_{ij}}.\n",
        "  $$\n",
        "  **Interpretación**: Corresponde a la fracción de ejemplos correctamente clasificados.\n",
        "\n",
        "- **Precision** \n",
        "  Para clasificación binaria su fórmula es\n",
        "  $$\n",
        "  \\text{accuracy}=\\frac{TP}{TP+FP},\n",
        "  $$ \n",
        "  mientras que para clasificación multiclase es\n",
        "  $$\n",
        "  \\text{accuracy}=\\frac{c_{ii}}{\\sum_{j=1}^nc_{ji}}.\n",
        "  $$\n",
        "  **Interpretación**: Para una clase $c_i$, la precision corresponde a cuántos de los elementos que el modelo predijo que estarían en esa clase están efectivamente en esa clase. Puede ser engañosa con clases desbalanceadas.\n",
        "\n",
        "- **Recall** \n",
        "  Para clasificación binaria su fórmula es     \n",
        "  $$\n",
        "  R=\\frac{TP}{TP+FN},\n",
        "  $$  \n",
        "  mientras que para clasificación multiclase es\n",
        "  $$\n",
        "  \\text{R}=\\frac{c_{ii}}{\\sum_{j=1}^nc_{ij}}.\n",
        "  $$\n",
        "  **Interpretación**: De todos los positivos reales, corresponde a qué fracción el modelo capturó. Penaliza los **falsos negativos**. En sistemas de clasificación multiclase para una clase $c_i$, corresponde a qué fracción del total de elementos que realmente corresponden a la clase $c_i$ el modelo predijo que estarían en la clase $c_i$.\n",
        "\n",
        "- **F1 score**  \n",
        "  Para clasificación binaria o multiclase su fórmula es\n",
        "  $$\n",
        "  F_1=\\frac{2PR}{P+R}.\n",
        "  $$  \n",
        "  **Interpretación**: Corresponde a la media armónica de precision y recall; equilibra ambos (castiga si uno es muy bajo).\n",
        "\n",
        "**Pregunta 5:**\n",
        "\n",
        "- **Mantenimiento predictivo (fallas de maquinaria pesada)**: **Recall**. Queremos no perder fallas reales, por lo que nuestro objetivo es minimizar FN. F1 puede complementar si también importa no sobrerreaccionar.  \n",
        "- **Detección de enfermedades altamente contagiosas**: **Recall**. Queremos capturar la mayor parte de casos verdaderos, o sea minimizar FN.  \n",
        "- **Aprobación de créditos de alto riesgo**: **Precision** sobre la clase “aprobado”. El objetivo es minimizar FP: aprobar a quien no debía.  \n",
        "- **Detección de crímenes**: **Recall**. Queremos no omitir casos positivos; si además preocupa acusar falsamente, se puede considerar F1 para balancear.\n",
        "\n",
        "**Pregunta 6:**\n",
        "\n",
        "En clases se define calibración como alinear las probabilidades predichas con las frecuencias reales: para todo \\(p\\in[0,1]\\), un modelo bien calibrado cumple  \n",
        "$$\n",
        "\\mathbb{P}(\\hat{Y}=1\\mid \\hat{P}=p)=p.\n",
        "$$  \n",
        "Se usa para obtener probabilidades mejor calibradas (no necesariamente perfectas), lo que ayuda a tomar decisiones con umbrales (especialmente en desequilibrio de clases), y a comunicar riesgos.  \n",
        "Se señala que suele requerir un conjunto adicional de calibración y que la calibración mejora la calibración de las probabilidades más que la discriminación.\n"
      ]
    },
    {
      "cell_type": "markdown",
      "metadata": {
        "id": "Jg_9jBqtgRDO"
      },
      "source": [
        "# Parte práctica [48 puntos]"
      ]
    },
    {
      "cell_type": "markdown",
      "metadata": {
        "id": "slm6yRfdfZwS"
      },
      "source": [
        "<p align=\"center\">\n",
        "  <img src=\"https://drive.google.com/uc?export=view&id=1BnO4tyh3vM2P199Ec9s3JjngQ4qQ9seP\"\n",
        "\" width=\"300\">\n",
        "</p>\n",
        "\n",
        "\n",
        "Tras el trágico despido de la mítica mascota de Maipú, Renacín decide adentrarse como consultor en el mercado futbolero, el cuál (para variar...) está cargado en especulaciones.\n",
        "\n",
        "Como su principal tarea será asesorar a los directivos de los clubes sobre cuál jugador comprar y cuál no, Renacín desea generar modelos predictivos que evaluén distintas características de los jugadores; todo con el fin de tomar decisiones concretas basadas en los datos.\n",
        "\n",
        "Sin embargo, su condición de corporeo le impidió tomar la versión anterior de MDS7202, por lo que este motivo Renacín contrata a su equipo para lograr su objetivo final. Dado que aún tiene fuertes vínculos con la dirección de deportes de la municipalidad, el corporeo le entrega base de datos con las estadísticas de cada jugador para que su equipo empieze a trabajar ya con un dataset listo para ser usado.\n"
      ]
    },
    {
      "cell_type": "markdown",
      "metadata": {
        "id": "jnbx7RwHfkue"
      },
      "source": [
        "**Los Datos**\n",
        "\n",
        "Para este laboratorio deberán trabajar con el csv `statsplayers.csv`, donde deberán aplicar algoritmos de aprendizaje supervisado de clasificación en base a características que describen de jugadores de fútbol.\n",
        "\n",
        "Para comenzar cargue el dataset señalado y a continuación vea el reporte **`Player_Stats_Report.html`** (adjunto en la carpeta del enunciado) que describe las características principales del `DataFrame`."
      ]
    },
    {
      "cell_type": "code",
      "execution_count": 39,
      "metadata": {
        "id": "mX6iwOWUfrp_"
      },
      "outputs": [
        {
          "name": "stdout",
          "output_type": "stream",
          "text": [
            "Ignorando conexión drive-colab\n"
          ]
        }
      ],
      "source": [
        "# Si usted está utilizando Colabolatory le puede ser útil este código para cargar los archivos.\n",
        "try:\n",
        "    from google.colab import drive\n",
        "    drive.mount(\"/content/drive\")\n",
        "    path = 'Dirección donde tiene los archivos en el Drive'\n",
        "except:\n",
        "    print('Ignorando conexión drive-colab')"
      ]
    },
    {
      "cell_type": "markdown",
      "metadata": {
        "id": "JdcucZhp-M_0"
      },
      "source": [
        "## 1. Predicción de Seleccionados Nacionales [14 puntos]"
      ]
    },
    {
      "cell_type": "markdown",
      "metadata": {
        "id": "HXrewqxjjzvA"
      },
      "source": [
        "<p align=\"center\">\n",
        "  <img src=\"https://www.futuro.cl/wp-content/uploads/2016/06/chile-argentina-meme-12.jpg\" width=\"300\">\n",
        "</p>\n",
        "\n"
      ]
    },
    {
      "cell_type": "markdown",
      "metadata": {
        "id": "Qfre1YsSDqla"
      },
      "source": [
        "### 1.1 Preprocesamiento [5 puntos]"
      ]
    },
    {
      "cell_type": "markdown",
      "metadata": {
        "id": "IR00u4HTDtxv"
      },
      "source": [
        "Tareas:\n",
        "\n",
        "1. Genere los labels para la clasificación binaria en una variable llamada `label`. Para esto, trabaje sobre el atributo `National_Position` suponiendo que los valores nulos son jugadores no seleccionados para representar a su país. [Sin puntaje]\n",
        "\n",
        "2. Hecho esto, ¿cuántos se tienen ejemplos por cada clase? Comente lo que observa. [1 punto]\n",
        "\n",
        "3. Genere un `ColumnTransformer` en donde especifique las transformaciones que hay que realizar para cada columna (por ejemplo StandarScaler, MinMaxScaler, OneHotEncoder, etc...) para que puedan ser utilizadas correctamente por el modelo predictivo y guárdelo una variable llamada `col_transformer`. [2 puntos]\n",
        "\n",
        "4. Comente y justifique las transformaciones elegidas sobre cada una de las variables (para esto utilice el material `Player_Stats_Report.html` que viene en el zip del lab), al igual que las transformaciones aplicadas. [2 puntos]"
      ]
    },
    {
      "cell_type": "markdown",
      "metadata": {
        "id": "tgAk0kbPjEsx"
      },
      "source": [
        "**Respuesta:**"
      ]
    },
    {
      "cell_type": "code",
      "execution_count": 40,
      "metadata": {
        "id": "JhC2sZj9dSI1"
      },
      "outputs": [
        {
          "name": "stdout",
          "output_type": "stream",
          "text": [
            "Cantidad de jugadores seleccionados para representar a su país: 1075\n",
            "Cantidad de jugadores no seleccionados para representar a su país: 16513\n"
          ]
        }
      ],
      "source": [
        "# Importamos las librerías neecesarias\n",
        "from sklearn.compose import ColumnTransformer\n",
        "from sklearn.pipeline import Pipeline\n",
        "from sklearn.preprocessing import OneHotEncoder, StandardScaler, MinMaxScaler\n",
        "import numpy as np\n",
        "import pandas as pd\n",
        "\n",
        "# Cargamos los datos\n",
        "df = pd.read_csv('./stats_players.csv')\n",
        "df.head()\n",
        "\n",
        "# ------------------ Pregunta 1 ------------------\n",
        "# Creamos la columna label, que será 1 si el jugador tiene una posición nacional y 0 en caso contrario\n",
        "df['label'] = df['National_Position'].notna().astype('int')\n",
        "\n",
        "# ------------------ Pregunta 2 ------------------\n",
        "# Contamos la cantidad de jugadores por cada clase\n",
        "df['label'].value_counts()\n",
        "print('Cantidad de jugadores seleccionados para representar a su país:', df['label'].value_counts()[1])\n",
        "print('Cantidad de jugadores no seleccionados para representar a su país:', df['label'].value_counts()[0])\n",
        "\n",
        "# ------------------ Pregunta 3 ------------------\n",
        "# Separamos las características predictoras de la variable objetivo\n",
        "X = df.drop(columns=[\n",
        "        'Name', # Eliminamos Name porque no aporta información relevante\n",
        "        'National_Position', # Eliminamos National_Position porque causa fuga de información\n",
        "        'label' # Eliminamos label porque es la variable objetivo\n",
        "        ]\n",
        "    )\n",
        "y = df['label']\n",
        "\n",
        "# Separamos los tipos de variables\n",
        "num_features = X.select_dtypes(include=['int64', 'float64']).columns.to_list()\n",
        "cat_features = X.select_dtypes(include=['object']).columns.to_list()\n",
        "\n",
        "# Separamos las variables numéricas que pareecen seguir una distribución normal de las que no\n",
        "num_features_normal = ['Height', 'Weight', 'Age', 'Aggression', 'Reactions', 'Vision', 'Composure', 'Short_Pass', 'Long_Pass', 'Acceleration', 'Speed', 'Stamina', 'Strength', 'Balance', 'Agility', 'Jumping', 'Penalties']\n",
        "num_features_non_normal = list(set(num_features) - set(num_features_normal))\n",
        "\n",
        "# Definimos pipelines por tipo\n",
        "num_nom_pipeline = Pipeline(steps=[\n",
        "    ('scaler', StandardScaler())\n",
        "])\n",
        "\n",
        "num_non_nom_pipeline = Pipeline(steps=[\n",
        "    ('minmax', MinMaxScaler())\n",
        "])\n",
        "\n",
        "cat_pipeline = Pipeline(steps=[\n",
        "    ('onehot', OneHotEncoder(handle_unknown='ignore', sparse_output=False))\n",
        "])\n",
        "\n",
        "# Combinamos los pipelines en un ColumnTransformer\n",
        "col_transformer = ColumnTransformer(transformers=[\n",
        "    ('num_nom', num_nom_pipeline, num_features_normal),\n",
        "    ('num_non_nom', num_non_nom_pipeline, num_features_non_normal),\n",
        "    ('cat', cat_pipeline, cat_features)\n",
        "])\n",
        "\n"
      ]
    },
    {
      "cell_type": "markdown",
      "metadata": {},
      "source": [
        "**Pregunta 2:** Podemos observar que la cantidad de jugadores selccionados para representar a su país es mucho menor que la cantidad de jugadores que no son seleccionados para representar a su país.\n",
        "\n",
        "**Pregunta 4:** Como es mencionado en los comentarios del código, se eliminó la columna del nombre pues no aporta información relevante, mientras que se eliminaron las columnas de National_Position y label pues lekean información de lo que se quiere predecir.\n",
        "\n",
        "Por otro lado, se le aplicó StandardScaler a las features numéricas que parecieran seguir una distribución normal, basado en lo que se puede apreciar en el archivo HTML dado, mientras que a las variables numéricas que parecían no seguir una distribución normal se le aplicó MinMax. La razón de esto es pues StandardScaler sirve más para variables que parecen seguir una distribución normal, mientras que MinMax es una buena opción cuando no es el caso y no hay outlayers (que es el caso en todas las variables del dataset). Finalmente, como es usual, se aplicó OneHotEncoder a las variables categóricas."
      ]
    },
    {
      "cell_type": "markdown",
      "metadata": {
        "id": "Bv1HOfcNEPF4"
      },
      "source": [
        "### 1.2 Entrenamiento [3 puntos]"
      ]
    },
    {
      "cell_type": "markdown",
      "metadata": {
        "id": "whPkuXTUBvB0"
      },
      "source": [
        "Ahora, vamos a entrenar los pipelines generados en los pasos anteriores. Para esto, debe realizar las siguientes tareas:\n",
        "\n",
        "1. Separe los datos de entrenamiento en un conjunto de entrenamiento y de prueba  (la proporción queda a su juicio). En este paso, seleccione los ejemplos de forma aleatoria e intente mantener la distribución original de labels de cada clase en los conjuntos de prueba/entrenamiento. (vea la documentación de `train_test_split`). [1 puntos]\n",
        "\n",
        "\n",
        "2. Defina un pipeline llamado `pipeline_xgboost` y otro llamado `pipeline_lightgbm`. Estos pipelines deben tener el mismo ColumnTransformer definido en la sección de preprocesamiento, pero deben variar los clasificadores de acuerdo al nombre de cada pipeline. [1 puntos]\n",
        "\n",
        "3. Entrene los pipelines. [1 punto]\n",
        "\n"
      ]
    },
    {
      "cell_type": "markdown",
      "metadata": {
        "id": "kbadONFtjGnE"
      },
      "source": [
        "**Respuesta:**"
      ]
    },
    {
      "cell_type": "code",
      "execution_count": 41,
      "metadata": {
        "id": "lLtlXGTPdWAV"
      },
      "outputs": [
        {
          "data": {
            "text/html": [
              "<style>#sk-container-id-3 {\n",
              "  /* Definition of color scheme common for light and dark mode */\n",
              "  --sklearn-color-text: black;\n",
              "  --sklearn-color-line: gray;\n",
              "  /* Definition of color scheme for unfitted estimators */\n",
              "  --sklearn-color-unfitted-level-0: #fff5e6;\n",
              "  --sklearn-color-unfitted-level-1: #f6e4d2;\n",
              "  --sklearn-color-unfitted-level-2: #ffe0b3;\n",
              "  --sklearn-color-unfitted-level-3: chocolate;\n",
              "  /* Definition of color scheme for fitted estimators */\n",
              "  --sklearn-color-fitted-level-0: #f0f8ff;\n",
              "  --sklearn-color-fitted-level-1: #d4ebff;\n",
              "  --sklearn-color-fitted-level-2: #b3dbfd;\n",
              "  --sklearn-color-fitted-level-3: cornflowerblue;\n",
              "\n",
              "  /* Specific color for light theme */\n",
              "  --sklearn-color-text-on-default-background: var(--sg-text-color, var(--theme-code-foreground, var(--jp-content-font-color1, black)));\n",
              "  --sklearn-color-background: var(--sg-background-color, var(--theme-background, var(--jp-layout-color0, white)));\n",
              "  --sklearn-color-border-box: var(--sg-text-color, var(--theme-code-foreground, var(--jp-content-font-color1, black)));\n",
              "  --sklearn-color-icon: #696969;\n",
              "\n",
              "  @media (prefers-color-scheme: dark) {\n",
              "    /* Redefinition of color scheme for dark theme */\n",
              "    --sklearn-color-text-on-default-background: var(--sg-text-color, var(--theme-code-foreground, var(--jp-content-font-color1, white)));\n",
              "    --sklearn-color-background: var(--sg-background-color, var(--theme-background, var(--jp-layout-color0, #111)));\n",
              "    --sklearn-color-border-box: var(--sg-text-color, var(--theme-code-foreground, var(--jp-content-font-color1, white)));\n",
              "    --sklearn-color-icon: #878787;\n",
              "  }\n",
              "}\n",
              "\n",
              "#sk-container-id-3 {\n",
              "  color: var(--sklearn-color-text);\n",
              "}\n",
              "\n",
              "#sk-container-id-3 pre {\n",
              "  padding: 0;\n",
              "}\n",
              "\n",
              "#sk-container-id-3 input.sk-hidden--visually {\n",
              "  border: 0;\n",
              "  clip: rect(1px 1px 1px 1px);\n",
              "  clip: rect(1px, 1px, 1px, 1px);\n",
              "  height: 1px;\n",
              "  margin: -1px;\n",
              "  overflow: hidden;\n",
              "  padding: 0;\n",
              "  position: absolute;\n",
              "  width: 1px;\n",
              "}\n",
              "\n",
              "#sk-container-id-3 div.sk-dashed-wrapped {\n",
              "  border: 1px dashed var(--sklearn-color-line);\n",
              "  margin: 0 0.4em 0.5em 0.4em;\n",
              "  box-sizing: border-box;\n",
              "  padding-bottom: 0.4em;\n",
              "  background-color: var(--sklearn-color-background);\n",
              "}\n",
              "\n",
              "#sk-container-id-3 div.sk-container {\n",
              "  /* jupyter's `normalize.less` sets `[hidden] { display: none; }`\n",
              "     but bootstrap.min.css set `[hidden] { display: none !important; }`\n",
              "     so we also need the `!important` here to be able to override the\n",
              "     default hidden behavior on the sphinx rendered scikit-learn.org.\n",
              "     See: https://github.com/scikit-learn/scikit-learn/issues/21755 */\n",
              "  display: inline-block !important;\n",
              "  position: relative;\n",
              "}\n",
              "\n",
              "#sk-container-id-3 div.sk-text-repr-fallback {\n",
              "  display: none;\n",
              "}\n",
              "\n",
              "div.sk-parallel-item,\n",
              "div.sk-serial,\n",
              "div.sk-item {\n",
              "  /* draw centered vertical line to link estimators */\n",
              "  background-image: linear-gradient(var(--sklearn-color-text-on-default-background), var(--sklearn-color-text-on-default-background));\n",
              "  background-size: 2px 100%;\n",
              "  background-repeat: no-repeat;\n",
              "  background-position: center center;\n",
              "}\n",
              "\n",
              "/* Parallel-specific style estimator block */\n",
              "\n",
              "#sk-container-id-3 div.sk-parallel-item::after {\n",
              "  content: \"\";\n",
              "  width: 100%;\n",
              "  border-bottom: 2px solid var(--sklearn-color-text-on-default-background);\n",
              "  flex-grow: 1;\n",
              "}\n",
              "\n",
              "#sk-container-id-3 div.sk-parallel {\n",
              "  display: flex;\n",
              "  align-items: stretch;\n",
              "  justify-content: center;\n",
              "  background-color: var(--sklearn-color-background);\n",
              "  position: relative;\n",
              "}\n",
              "\n",
              "#sk-container-id-3 div.sk-parallel-item {\n",
              "  display: flex;\n",
              "  flex-direction: column;\n",
              "}\n",
              "\n",
              "#sk-container-id-3 div.sk-parallel-item:first-child::after {\n",
              "  align-self: flex-end;\n",
              "  width: 50%;\n",
              "}\n",
              "\n",
              "#sk-container-id-3 div.sk-parallel-item:last-child::after {\n",
              "  align-self: flex-start;\n",
              "  width: 50%;\n",
              "}\n",
              "\n",
              "#sk-container-id-3 div.sk-parallel-item:only-child::after {\n",
              "  width: 0;\n",
              "}\n",
              "\n",
              "/* Serial-specific style estimator block */\n",
              "\n",
              "#sk-container-id-3 div.sk-serial {\n",
              "  display: flex;\n",
              "  flex-direction: column;\n",
              "  align-items: center;\n",
              "  background-color: var(--sklearn-color-background);\n",
              "  padding-right: 1em;\n",
              "  padding-left: 1em;\n",
              "}\n",
              "\n",
              "\n",
              "/* Toggleable style: style used for estimator/Pipeline/ColumnTransformer box that is\n",
              "clickable and can be expanded/collapsed.\n",
              "- Pipeline and ColumnTransformer use this feature and define the default style\n",
              "- Estimators will overwrite some part of the style using the `sk-estimator` class\n",
              "*/\n",
              "\n",
              "/* Pipeline and ColumnTransformer style (default) */\n",
              "\n",
              "#sk-container-id-3 div.sk-toggleable {\n",
              "  /* Default theme specific background. It is overwritten whether we have a\n",
              "  specific estimator or a Pipeline/ColumnTransformer */\n",
              "  background-color: var(--sklearn-color-background);\n",
              "}\n",
              "\n",
              "/* Toggleable label */\n",
              "#sk-container-id-3 label.sk-toggleable__label {\n",
              "  cursor: pointer;\n",
              "  display: block;\n",
              "  width: 100%;\n",
              "  margin-bottom: 0;\n",
              "  padding: 0.5em;\n",
              "  box-sizing: border-box;\n",
              "  text-align: center;\n",
              "}\n",
              "\n",
              "#sk-container-id-3 label.sk-toggleable__label-arrow:before {\n",
              "  /* Arrow on the left of the label */\n",
              "  content: \"▸\";\n",
              "  float: left;\n",
              "  margin-right: 0.25em;\n",
              "  color: var(--sklearn-color-icon);\n",
              "}\n",
              "\n",
              "#sk-container-id-3 label.sk-toggleable__label-arrow:hover:before {\n",
              "  color: var(--sklearn-color-text);\n",
              "}\n",
              "\n",
              "/* Toggleable content - dropdown */\n",
              "\n",
              "#sk-container-id-3 div.sk-toggleable__content {\n",
              "  max-height: 0;\n",
              "  max-width: 0;\n",
              "  overflow: hidden;\n",
              "  text-align: left;\n",
              "  /* unfitted */\n",
              "  background-color: var(--sklearn-color-unfitted-level-0);\n",
              "}\n",
              "\n",
              "#sk-container-id-3 div.sk-toggleable__content.fitted {\n",
              "  /* fitted */\n",
              "  background-color: var(--sklearn-color-fitted-level-0);\n",
              "}\n",
              "\n",
              "#sk-container-id-3 div.sk-toggleable__content pre {\n",
              "  margin: 0.2em;\n",
              "  border-radius: 0.25em;\n",
              "  color: var(--sklearn-color-text);\n",
              "  /* unfitted */\n",
              "  background-color: var(--sklearn-color-unfitted-level-0);\n",
              "}\n",
              "\n",
              "#sk-container-id-3 div.sk-toggleable__content.fitted pre {\n",
              "  /* unfitted */\n",
              "  background-color: var(--sklearn-color-fitted-level-0);\n",
              "}\n",
              "\n",
              "#sk-container-id-3 input.sk-toggleable__control:checked~div.sk-toggleable__content {\n",
              "  /* Expand drop-down */\n",
              "  max-height: 200px;\n",
              "  max-width: 100%;\n",
              "  overflow: auto;\n",
              "}\n",
              "\n",
              "#sk-container-id-3 input.sk-toggleable__control:checked~label.sk-toggleable__label-arrow:before {\n",
              "  content: \"▾\";\n",
              "}\n",
              "\n",
              "/* Pipeline/ColumnTransformer-specific style */\n",
              "\n",
              "#sk-container-id-3 div.sk-label input.sk-toggleable__control:checked~label.sk-toggleable__label {\n",
              "  color: var(--sklearn-color-text);\n",
              "  background-color: var(--sklearn-color-unfitted-level-2);\n",
              "}\n",
              "\n",
              "#sk-container-id-3 div.sk-label.fitted input.sk-toggleable__control:checked~label.sk-toggleable__label {\n",
              "  background-color: var(--sklearn-color-fitted-level-2);\n",
              "}\n",
              "\n",
              "/* Estimator-specific style */\n",
              "\n",
              "/* Colorize estimator box */\n",
              "#sk-container-id-3 div.sk-estimator input.sk-toggleable__control:checked~label.sk-toggleable__label {\n",
              "  /* unfitted */\n",
              "  background-color: var(--sklearn-color-unfitted-level-2);\n",
              "}\n",
              "\n",
              "#sk-container-id-3 div.sk-estimator.fitted input.sk-toggleable__control:checked~label.sk-toggleable__label {\n",
              "  /* fitted */\n",
              "  background-color: var(--sklearn-color-fitted-level-2);\n",
              "}\n",
              "\n",
              "#sk-container-id-3 div.sk-label label.sk-toggleable__label,\n",
              "#sk-container-id-3 div.sk-label label {\n",
              "  /* The background is the default theme color */\n",
              "  color: var(--sklearn-color-text-on-default-background);\n",
              "}\n",
              "\n",
              "/* On hover, darken the color of the background */\n",
              "#sk-container-id-3 div.sk-label:hover label.sk-toggleable__label {\n",
              "  color: var(--sklearn-color-text);\n",
              "  background-color: var(--sklearn-color-unfitted-level-2);\n",
              "}\n",
              "\n",
              "/* Label box, darken color on hover, fitted */\n",
              "#sk-container-id-3 div.sk-label.fitted:hover label.sk-toggleable__label.fitted {\n",
              "  color: var(--sklearn-color-text);\n",
              "  background-color: var(--sklearn-color-fitted-level-2);\n",
              "}\n",
              "\n",
              "/* Estimator label */\n",
              "\n",
              "#sk-container-id-3 div.sk-label label {\n",
              "  font-family: monospace;\n",
              "  font-weight: bold;\n",
              "  display: inline-block;\n",
              "  line-height: 1.2em;\n",
              "}\n",
              "\n",
              "#sk-container-id-3 div.sk-label-container {\n",
              "  text-align: center;\n",
              "}\n",
              "\n",
              "/* Estimator-specific */\n",
              "#sk-container-id-3 div.sk-estimator {\n",
              "  font-family: monospace;\n",
              "  border: 1px dotted var(--sklearn-color-border-box);\n",
              "  border-radius: 0.25em;\n",
              "  box-sizing: border-box;\n",
              "  margin-bottom: 0.5em;\n",
              "  /* unfitted */\n",
              "  background-color: var(--sklearn-color-unfitted-level-0);\n",
              "}\n",
              "\n",
              "#sk-container-id-3 div.sk-estimator.fitted {\n",
              "  /* fitted */\n",
              "  background-color: var(--sklearn-color-fitted-level-0);\n",
              "}\n",
              "\n",
              "/* on hover */\n",
              "#sk-container-id-3 div.sk-estimator:hover {\n",
              "  /* unfitted */\n",
              "  background-color: var(--sklearn-color-unfitted-level-2);\n",
              "}\n",
              "\n",
              "#sk-container-id-3 div.sk-estimator.fitted:hover {\n",
              "  /* fitted */\n",
              "  background-color: var(--sklearn-color-fitted-level-2);\n",
              "}\n",
              "\n",
              "/* Specification for estimator info (e.g. \"i\" and \"?\") */\n",
              "\n",
              "/* Common style for \"i\" and \"?\" */\n",
              "\n",
              ".sk-estimator-doc-link,\n",
              "a:link.sk-estimator-doc-link,\n",
              "a:visited.sk-estimator-doc-link {\n",
              "  float: right;\n",
              "  font-size: smaller;\n",
              "  line-height: 1em;\n",
              "  font-family: monospace;\n",
              "  background-color: var(--sklearn-color-background);\n",
              "  border-radius: 1em;\n",
              "  height: 1em;\n",
              "  width: 1em;\n",
              "  text-decoration: none !important;\n",
              "  margin-left: 1ex;\n",
              "  /* unfitted */\n",
              "  border: var(--sklearn-color-unfitted-level-1) 1pt solid;\n",
              "  color: var(--sklearn-color-unfitted-level-1);\n",
              "}\n",
              "\n",
              ".sk-estimator-doc-link.fitted,\n",
              "a:link.sk-estimator-doc-link.fitted,\n",
              "a:visited.sk-estimator-doc-link.fitted {\n",
              "  /* fitted */\n",
              "  border: var(--sklearn-color-fitted-level-1) 1pt solid;\n",
              "  color: var(--sklearn-color-fitted-level-1);\n",
              "}\n",
              "\n",
              "/* On hover */\n",
              "div.sk-estimator:hover .sk-estimator-doc-link:hover,\n",
              ".sk-estimator-doc-link:hover,\n",
              "div.sk-label-container:hover .sk-estimator-doc-link:hover,\n",
              ".sk-estimator-doc-link:hover {\n",
              "  /* unfitted */\n",
              "  background-color: var(--sklearn-color-unfitted-level-3);\n",
              "  color: var(--sklearn-color-background);\n",
              "  text-decoration: none;\n",
              "}\n",
              "\n",
              "div.sk-estimator.fitted:hover .sk-estimator-doc-link.fitted:hover,\n",
              ".sk-estimator-doc-link.fitted:hover,\n",
              "div.sk-label-container:hover .sk-estimator-doc-link.fitted:hover,\n",
              ".sk-estimator-doc-link.fitted:hover {\n",
              "  /* fitted */\n",
              "  background-color: var(--sklearn-color-fitted-level-3);\n",
              "  color: var(--sklearn-color-background);\n",
              "  text-decoration: none;\n",
              "}\n",
              "\n",
              "/* Span, style for the box shown on hovering the info icon */\n",
              ".sk-estimator-doc-link span {\n",
              "  display: none;\n",
              "  z-index: 9999;\n",
              "  position: relative;\n",
              "  font-weight: normal;\n",
              "  right: .2ex;\n",
              "  padding: .5ex;\n",
              "  margin: .5ex;\n",
              "  width: min-content;\n",
              "  min-width: 20ex;\n",
              "  max-width: 50ex;\n",
              "  color: var(--sklearn-color-text);\n",
              "  box-shadow: 2pt 2pt 4pt #999;\n",
              "  /* unfitted */\n",
              "  background: var(--sklearn-color-unfitted-level-0);\n",
              "  border: .5pt solid var(--sklearn-color-unfitted-level-3);\n",
              "}\n",
              "\n",
              ".sk-estimator-doc-link.fitted span {\n",
              "  /* fitted */\n",
              "  background: var(--sklearn-color-fitted-level-0);\n",
              "  border: var(--sklearn-color-fitted-level-3);\n",
              "}\n",
              "\n",
              ".sk-estimator-doc-link:hover span {\n",
              "  display: block;\n",
              "}\n",
              "\n",
              "/* \"?\"-specific style due to the `<a>` HTML tag */\n",
              "\n",
              "#sk-container-id-3 a.estimator_doc_link {\n",
              "  float: right;\n",
              "  font-size: 1rem;\n",
              "  line-height: 1em;\n",
              "  font-family: monospace;\n",
              "  background-color: var(--sklearn-color-background);\n",
              "  border-radius: 1rem;\n",
              "  height: 1rem;\n",
              "  width: 1rem;\n",
              "  text-decoration: none;\n",
              "  /* unfitted */\n",
              "  color: var(--sklearn-color-unfitted-level-1);\n",
              "  border: var(--sklearn-color-unfitted-level-1) 1pt solid;\n",
              "}\n",
              "\n",
              "#sk-container-id-3 a.estimator_doc_link.fitted {\n",
              "  /* fitted */\n",
              "  border: var(--sklearn-color-fitted-level-1) 1pt solid;\n",
              "  color: var(--sklearn-color-fitted-level-1);\n",
              "}\n",
              "\n",
              "/* On hover */\n",
              "#sk-container-id-3 a.estimator_doc_link:hover {\n",
              "  /* unfitted */\n",
              "  background-color: var(--sklearn-color-unfitted-level-3);\n",
              "  color: var(--sklearn-color-background);\n",
              "  text-decoration: none;\n",
              "}\n",
              "\n",
              "#sk-container-id-3 a.estimator_doc_link.fitted:hover {\n",
              "  /* fitted */\n",
              "  background-color: var(--sklearn-color-fitted-level-3);\n",
              "}\n",
              "</style><div id=\"sk-container-id-3\" class=\"sk-top-container\"><div class=\"sk-text-repr-fallback\"><pre>Pipeline(memory=None,\n",
              "         steps=[(&#x27;preprocessor&#x27;,\n",
              "                 ColumnTransformer(n_jobs=None, remainder=&#x27;drop&#x27;,\n",
              "                                   sparse_threshold=0.3,\n",
              "                                   transformer_weights=None,\n",
              "                                   transformers=[(&#x27;num_nom&#x27;,\n",
              "                                                  Pipeline(memory=None,\n",
              "                                                           steps=[(&#x27;scaler&#x27;,\n",
              "                                                                   StandardScaler(copy=True,\n",
              "                                                                                  with_mean=True,\n",
              "                                                                                  with_std=True))],\n",
              "                                                           verbose=False),\n",
              "                                                  [&#x27;Height&#x27;, &#x27;Weight&#x27;, &#x27;Age&#x27;,\n",
              "                                                   &#x27;Aggression&#x27;, &#x27;Reactions&#x27;,\n",
              "                                                   &#x27;Vision&#x27;, &#x27;Composure&#x27;,\n",
              "                                                   &#x27;Short_...\n",
              "                 LGBMClassifier(boosting_type=&#x27;gbdt&#x27;, class_weight=None,\n",
              "                                colsample_bytree=0.8, importance_type=&#x27;split&#x27;,\n",
              "                                learning_rate=0.05, max_depth=-1,\n",
              "                                min_child_samples=20, min_child_weight=0.001,\n",
              "                                min_split_gain=0.0, n_estimators=400,\n",
              "                                n_jobs=None, num_leaves=31, objective=None,\n",
              "                                random_state=42, reg_alpha=0.0, reg_lambda=0.0,\n",
              "                                subsample=0.8, subsample_for_bin=200000,\n",
              "                                subsample_freq=0, verbose=-1))],\n",
              "         verbose=False)</pre><b>In a Jupyter environment, please rerun this cell to show the HTML representation or trust the notebook. <br />On GitHub, the HTML representation is unable to render, please try loading this page with nbviewer.org.</b></div><div class=\"sk-container\" hidden><div class=\"sk-item sk-dashed-wrapped\"><div class=\"sk-label-container\"><div class=\"sk-label fitted sk-toggleable\"><input class=\"sk-toggleable__control sk-hidden--visually\" id=\"sk-estimator-id-19\" type=\"checkbox\" ><label for=\"sk-estimator-id-19\" class=\"sk-toggleable__label fitted sk-toggleable__label-arrow fitted\">&nbsp;&nbsp;Pipeline<a class=\"sk-estimator-doc-link fitted\" rel=\"noreferrer\" target=\"_blank\" href=\"https://scikit-learn.org/1.4/modules/generated/sklearn.pipeline.Pipeline.html\">?<span>Documentation for Pipeline</span></a><span class=\"sk-estimator-doc-link fitted\">i<span>Fitted</span></span></label><div class=\"sk-toggleable__content fitted\"><pre>Pipeline(memory=None,\n",
              "         steps=[(&#x27;preprocessor&#x27;,\n",
              "                 ColumnTransformer(n_jobs=None, remainder=&#x27;drop&#x27;,\n",
              "                                   sparse_threshold=0.3,\n",
              "                                   transformer_weights=None,\n",
              "                                   transformers=[(&#x27;num_nom&#x27;,\n",
              "                                                  Pipeline(memory=None,\n",
              "                                                           steps=[(&#x27;scaler&#x27;,\n",
              "                                                                   StandardScaler(copy=True,\n",
              "                                                                                  with_mean=True,\n",
              "                                                                                  with_std=True))],\n",
              "                                                           verbose=False),\n",
              "                                                  [&#x27;Height&#x27;, &#x27;Weight&#x27;, &#x27;Age&#x27;,\n",
              "                                                   &#x27;Aggression&#x27;, &#x27;Reactions&#x27;,\n",
              "                                                   &#x27;Vision&#x27;, &#x27;Composure&#x27;,\n",
              "                                                   &#x27;Short_...\n",
              "                 LGBMClassifier(boosting_type=&#x27;gbdt&#x27;, class_weight=None,\n",
              "                                colsample_bytree=0.8, importance_type=&#x27;split&#x27;,\n",
              "                                learning_rate=0.05, max_depth=-1,\n",
              "                                min_child_samples=20, min_child_weight=0.001,\n",
              "                                min_split_gain=0.0, n_estimators=400,\n",
              "                                n_jobs=None, num_leaves=31, objective=None,\n",
              "                                random_state=42, reg_alpha=0.0, reg_lambda=0.0,\n",
              "                                subsample=0.8, subsample_for_bin=200000,\n",
              "                                subsample_freq=0, verbose=-1))],\n",
              "         verbose=False)</pre></div> </div></div><div class=\"sk-serial\"><div class=\"sk-item sk-dashed-wrapped\"><div class=\"sk-label-container\"><div class=\"sk-label fitted sk-toggleable\"><input class=\"sk-toggleable__control sk-hidden--visually\" id=\"sk-estimator-id-20\" type=\"checkbox\" ><label for=\"sk-estimator-id-20\" class=\"sk-toggleable__label fitted sk-toggleable__label-arrow fitted\">&nbsp;preprocessor: ColumnTransformer<a class=\"sk-estimator-doc-link fitted\" rel=\"noreferrer\" target=\"_blank\" href=\"https://scikit-learn.org/1.4/modules/generated/sklearn.compose.ColumnTransformer.html\">?<span>Documentation for preprocessor: ColumnTransformer</span></a></label><div class=\"sk-toggleable__content fitted\"><pre>ColumnTransformer(n_jobs=None, remainder=&#x27;drop&#x27;, sparse_threshold=0.3,\n",
              "                  transformer_weights=None,\n",
              "                  transformers=[(&#x27;num_nom&#x27;,\n",
              "                                 Pipeline(memory=None,\n",
              "                                          steps=[(&#x27;scaler&#x27;,\n",
              "                                                  StandardScaler(copy=True,\n",
              "                                                                 with_mean=True,\n",
              "                                                                 with_std=True))],\n",
              "                                          verbose=False),\n",
              "                                 [&#x27;Height&#x27;, &#x27;Weight&#x27;, &#x27;Age&#x27;, &#x27;Aggression&#x27;,\n",
              "                                  &#x27;Reactions&#x27;, &#x27;Vision&#x27;, &#x27;Composure&#x27;,\n",
              "                                  &#x27;Short_Pass&#x27;, &#x27;Long_Pass&#x27;, &#x27;Acceleration&#x27;,\n",
              "                                  &#x27;Speed&#x27;, &#x27;St...\n",
              "                                (&#x27;cat&#x27;,\n",
              "                                 Pipeline(memory=None,\n",
              "                                          steps=[(&#x27;onehot&#x27;,\n",
              "                                                  OneHotEncoder(categories=&#x27;auto&#x27;,\n",
              "                                                                drop=None,\n",
              "                                                                dtype=&lt;class &#x27;numpy.float64&#x27;&gt;,\n",
              "                                                                feature_name_combiner=&#x27;concat&#x27;,\n",
              "                                                                handle_unknown=&#x27;ignore&#x27;,\n",
              "                                                                max_categories=None,\n",
              "                                                                min_frequency=None,\n",
              "                                                                sparse_output=False))],\n",
              "                                          verbose=False),\n",
              "                                 [&#x27;Nationality&#x27;, &#x27;Club_Position&#x27;,\n",
              "                                  &#x27;Preffered_Foot&#x27;, &#x27;Work_Rate&#x27;])],\n",
              "                  verbose=False, verbose_feature_names_out=True)</pre></div> </div></div><div class=\"sk-parallel\"><div class=\"sk-parallel-item\"><div class=\"sk-item\"><div class=\"sk-label-container\"><div class=\"sk-label fitted sk-toggleable\"><input class=\"sk-toggleable__control sk-hidden--visually\" id=\"sk-estimator-id-21\" type=\"checkbox\" ><label for=\"sk-estimator-id-21\" class=\"sk-toggleable__label fitted sk-toggleable__label-arrow fitted\">num_nom</label><div class=\"sk-toggleable__content fitted\"><pre>[&#x27;Height&#x27;, &#x27;Weight&#x27;, &#x27;Age&#x27;, &#x27;Aggression&#x27;, &#x27;Reactions&#x27;, &#x27;Vision&#x27;, &#x27;Composure&#x27;, &#x27;Short_Pass&#x27;, &#x27;Long_Pass&#x27;, &#x27;Acceleration&#x27;, &#x27;Speed&#x27;, &#x27;Stamina&#x27;, &#x27;Strength&#x27;, &#x27;Balance&#x27;, &#x27;Agility&#x27;, &#x27;Jumping&#x27;, &#x27;Penalties&#x27;]</pre></div> </div></div><div class=\"sk-serial\"><div class=\"sk-item\"><div class=\"sk-serial\"><div class=\"sk-item\"><div class=\"sk-estimator fitted sk-toggleable\"><input class=\"sk-toggleable__control sk-hidden--visually\" id=\"sk-estimator-id-22\" type=\"checkbox\" ><label for=\"sk-estimator-id-22\" class=\"sk-toggleable__label fitted sk-toggleable__label-arrow fitted\">&nbsp;StandardScaler<a class=\"sk-estimator-doc-link fitted\" rel=\"noreferrer\" target=\"_blank\" href=\"https://scikit-learn.org/1.4/modules/generated/sklearn.preprocessing.StandardScaler.html\">?<span>Documentation for StandardScaler</span></a></label><div class=\"sk-toggleable__content fitted\"><pre>StandardScaler()</pre></div> </div></div></div></div></div></div></div><div class=\"sk-parallel-item\"><div class=\"sk-item\"><div class=\"sk-label-container\"><div class=\"sk-label fitted sk-toggleable\"><input class=\"sk-toggleable__control sk-hidden--visually\" id=\"sk-estimator-id-23\" type=\"checkbox\" ><label for=\"sk-estimator-id-23\" class=\"sk-toggleable__label fitted sk-toggleable__label-arrow fitted\">num_non_nom</label><div class=\"sk-toggleable__content fitted\"><pre>[&#x27;Skill_Moves&#x27;, &#x27;Weak_foot&#x27;, &#x27;Finishing&#x27;, &#x27;Freekick_Accuracy&#x27;, &#x27;Dribbling&#x27;, &#x27;Interceptions&#x27;, &#x27;Long_Shots&#x27;, &#x27;Volleys&#x27;, &#x27;Sliding_Tackle&#x27;, &#x27;Marking&#x27;, &#x27;Crossing&#x27;, &#x27;Ball_Control&#x27;, &#x27;Heading&#x27;, &#x27;Standing_Tackle&#x27;, &#x27;Shot_Power&#x27;, &#x27;Curve&#x27;]</pre></div> </div></div><div class=\"sk-serial\"><div class=\"sk-item\"><div class=\"sk-serial\"><div class=\"sk-item\"><div class=\"sk-estimator fitted sk-toggleable\"><input class=\"sk-toggleable__control sk-hidden--visually\" id=\"sk-estimator-id-24\" type=\"checkbox\" ><label for=\"sk-estimator-id-24\" class=\"sk-toggleable__label fitted sk-toggleable__label-arrow fitted\">&nbsp;MinMaxScaler<a class=\"sk-estimator-doc-link fitted\" rel=\"noreferrer\" target=\"_blank\" href=\"https://scikit-learn.org/1.4/modules/generated/sklearn.preprocessing.MinMaxScaler.html\">?<span>Documentation for MinMaxScaler</span></a></label><div class=\"sk-toggleable__content fitted\"><pre>MinMaxScaler()</pre></div> </div></div></div></div></div></div></div><div class=\"sk-parallel-item\"><div class=\"sk-item\"><div class=\"sk-label-container\"><div class=\"sk-label fitted sk-toggleable\"><input class=\"sk-toggleable__control sk-hidden--visually\" id=\"sk-estimator-id-25\" type=\"checkbox\" ><label for=\"sk-estimator-id-25\" class=\"sk-toggleable__label fitted sk-toggleable__label-arrow fitted\">cat</label><div class=\"sk-toggleable__content fitted\"><pre>[&#x27;Nationality&#x27;, &#x27;Club_Position&#x27;, &#x27;Preffered_Foot&#x27;, &#x27;Work_Rate&#x27;]</pre></div> </div></div><div class=\"sk-serial\"><div class=\"sk-item\"><div class=\"sk-serial\"><div class=\"sk-item\"><div class=\"sk-estimator fitted sk-toggleable\"><input class=\"sk-toggleable__control sk-hidden--visually\" id=\"sk-estimator-id-26\" type=\"checkbox\" ><label for=\"sk-estimator-id-26\" class=\"sk-toggleable__label fitted sk-toggleable__label-arrow fitted\">&nbsp;OneHotEncoder<a class=\"sk-estimator-doc-link fitted\" rel=\"noreferrer\" target=\"_blank\" href=\"https://scikit-learn.org/1.4/modules/generated/sklearn.preprocessing.OneHotEncoder.html\">?<span>Documentation for OneHotEncoder</span></a></label><div class=\"sk-toggleable__content fitted\"><pre>OneHotEncoder(handle_unknown=&#x27;ignore&#x27;, sparse_output=False)</pre></div> </div></div></div></div></div></div></div></div></div><div class=\"sk-item\"><div class=\"sk-estimator fitted sk-toggleable\"><input class=\"sk-toggleable__control sk-hidden--visually\" id=\"sk-estimator-id-27\" type=\"checkbox\" ><label for=\"sk-estimator-id-27\" class=\"sk-toggleable__label fitted sk-toggleable__label-arrow fitted\">LGBMClassifier</label><div class=\"sk-toggleable__content fitted\"><pre>LGBMClassifier(colsample_bytree=0.8, learning_rate=0.05, n_estimators=400,\n",
              "               random_state=42, subsample=0.8, verbose=-1)</pre></div> </div></div></div></div></div></div>"
            ],
            "text/plain": [
              "Pipeline(memory=None,\n",
              "         steps=[('preprocessor',\n",
              "                 ColumnTransformer(n_jobs=None, remainder='drop',\n",
              "                                   sparse_threshold=0.3,\n",
              "                                   transformer_weights=None,\n",
              "                                   transformers=[('num_nom',\n",
              "                                                  Pipeline(memory=None,\n",
              "                                                           steps=[('scaler',\n",
              "                                                                   StandardScaler(copy=True,\n",
              "                                                                                  with_mean=True,\n",
              "                                                                                  with_std=True))],\n",
              "                                                           verbose=False),\n",
              "                                                  ['Height', 'Weight', 'Age',\n",
              "                                                   'Aggression', 'Reactions',\n",
              "                                                   'Vision', 'Composure',\n",
              "                                                   'Short_...\n",
              "                 LGBMClassifier(boosting_type='gbdt', class_weight=None,\n",
              "                                colsample_bytree=0.8, importance_type='split',\n",
              "                                learning_rate=0.05, max_depth=-1,\n",
              "                                min_child_samples=20, min_child_weight=0.001,\n",
              "                                min_split_gain=0.0, n_estimators=400,\n",
              "                                n_jobs=None, num_leaves=31, objective=None,\n",
              "                                random_state=42, reg_alpha=0.0, reg_lambda=0.0,\n",
              "                                subsample=0.8, subsample_for_bin=200000,\n",
              "                                subsample_freq=0, verbose=-1))],\n",
              "         verbose=False)"
            ]
          },
          "execution_count": 41,
          "metadata": {},
          "output_type": "execute_result"
        }
      ],
      "source": [
        "# Importamos las librerías necesarias\n",
        "from sklearn.model_selection import train_test_split\n",
        "from xgboost import XGBClassifier\n",
        "from lightgbm import LGBMClassifier\n",
        "\n",
        "# ------------------ Pregunta 1 ------------------\n",
        "# Separamos los datos en entrenamiento y prueba\n",
        "X_train, X_test, y_train, y_test = train_test_split(X, y, test_size=0.33, random_state=42, stratify=y)\n",
        "\n",
        "# ------------------ Pregunta 2 ------------------\n",
        "# Definimos los pipelines pedidos\n",
        "pipeline_xgboost = Pipeline(steps=[\n",
        "    ('preprocessor', col_transformer),\n",
        "    ('classifier', XGBClassifier(\n",
        "        n_estimators=400,\n",
        "        learning_rate=0.05,\n",
        "        max_depth=6,\n",
        "        subsample=0.8,\n",
        "        colsample_bytree=0.8,\n",
        "        eval_metric='logloss',\n",
        "        tree_method='hist',\n",
        "        random_state=42\n",
        "    ))\n",
        "])\n",
        "\n",
        "pipeline_lightgbm = Pipeline(steps=[\n",
        "    ('preprocessor', col_transformer),\n",
        "    ('classifier', LGBMClassifier(\n",
        "        verbose=-1,\n",
        "        n_estimators=400,\n",
        "        learning_rate=0.05,\n",
        "        max_depth=-1,\n",
        "        subsample=0.8,\n",
        "        colsample_bytree=0.8,\n",
        "        random_state=42\n",
        "    ))\n",
        "])\n",
        "\n",
        "# ------------------ Pregunta 3 ------------------\n",
        "# Entrenamos los pipelines\n",
        "pipeline_xgboost.fit(X_train, y_train)\n",
        "pipeline_lightgbm.fit(X_train, y_train)"
      ]
    },
    {
      "cell_type": "markdown",
      "metadata": {
        "id": "poc9HSNBFeKO"
      },
      "source": [
        "### 1.3 Resultados [6 puntos]"
      ]
    },
    {
      "cell_type": "markdown",
      "metadata": {
        "id": "tGGCj8YtFil1"
      },
      "source": [
        "1. Calcule las métricas accuracy, precisión y recall de la clase positiva (la que indica que un jugador es seleccionado nacional) para evaluar el rendimiento de los distintos modelos. Verifique sus resultados usando `classification_report`. [2 puntos]\n",
        "\n",
        "2. Explique qué implican los valores de accuracy, precisión y recall de la clase positiva (la que indica que un jugador es seleccionado nacional) y cómo influye la cantidad de ejemplos por clase en los resultados obtenidos. [2 puntos]\n",
        "\n",
        "3. Explique qué métrica le parece más adecuada y concluya qué modelo tiene un mejor desempeño. [2 puntos]"
      ]
    },
    {
      "cell_type": "markdown",
      "metadata": {
        "id": "A1hkVFdujJTi"
      },
      "source": [
        "**Respuesta:**"
      ]
    },
    {
      "cell_type": "code",
      "execution_count": 42,
      "metadata": {
        "id": "QNmI_tbbdQte"
      },
      "outputs": [
        {
          "name": "stdout",
          "output_type": "stream",
          "text": [
            "              precision    recall  f1-score   support\n",
            "\n",
            "           0       0.96      0.99      0.97      5450\n",
            "           1       0.69      0.31      0.42       355\n",
            "\n",
            "    accuracy                           0.95      5805\n",
            "   macro avg       0.82      0.65      0.70      5805\n",
            "weighted avg       0.94      0.95      0.94      5805\n",
            "\n",
            "              precision    recall  f1-score   support\n",
            "\n",
            "           0       0.96      0.99      0.97      5450\n",
            "           1       0.66      0.29      0.40       355\n",
            "\n",
            "    accuracy                           0.95      5805\n",
            "   macro avg       0.81      0.64      0.69      5805\n",
            "weighted avg       0.94      0.95      0.94      5805\n",
            "\n"
          ]
        }
      ],
      "source": [
        "# Importamos las librerías necesarias\n",
        "from sklearn.metrics import accuracy_score, precision_score, recall_score\n",
        "from sklearn.metrics import classification_report\n",
        "\n",
        "# ------------------ Pregunta 1 ------------------\n",
        "# Realizamos las predicciones para cada modelo\n",
        "y_pred_xgboost = pipeline_xgboost.predict(X_test)\n",
        "y_pred_lightgbm = pipeline_lightgbm.predict(X_test)\n",
        "\n",
        "# Calculamos las métricas de evaluación para xgboost\n",
        "accuracy_xgboost = accuracy_score(y_test, y_pred_xgboost)\n",
        "precision_xgboost = precision_score(y_test, y_pred_xgboost)\n",
        "recall_xgboost = recall_score(y_test, y_pred_xgboost)\n",
        "\n",
        "# Calculamos las métricas de evaluación para lightgbm\n",
        "accuracy_lightgbm = accuracy_score(y_test, y_pred_lightgbm)\n",
        "precision_lightgbm = precision_score(y_test, y_pred_lightgbm)\n",
        "recall_lightgbm = recall_score(y_test, y_pred_lightgbm)\n",
        "\n",
        "# Usamos classification_report para verificar los resultados\n",
        "report_xgboost = classification_report(y_test, y_pred_xgboost)\n",
        "report_lightgbm = classification_report(y_test, y_pred_lightgbm)\n",
        "\n",
        "print(report_xgboost)\n",
        "print(report_lightgbm)"
      ]
    },
    {
      "cell_type": "markdown",
      "metadata": {},
      "source": [
        "**Respuestas:**\n",
        "\n",
        "**Pregunta 2:** Los resultados reflejan un desbalance fuerte ($355/5805 \\approx 6\\%$ positivos), por lo que la accuracy $0.95$ es poco informativa: un clasificador que casi siempre predice “$0$” ya logra un valor alto. La precisión de la clase positiva ($0.69$ y $0.66$) indica que, cuando el modelo predice “$1$”, suele acertar (pocos falsos positivos); en cambio, el recall ($0.31$ y $0.29$) revela que el modelo deja pasar muchos verdaderos positivos (muchos falsos negativos). La diferencia entre macro y weighted también habla del desbalance: las métricas ponderadas se ven “bien” porque están dominadas por la clase $0$, mientras que las macro (promedio por clase) bajan al reflejar el rendimiento pobre en la clase minoritaria.\n",
        "\n",
        "**Pregunta 3:** En un problema binario desbalanceado, la métrica más adecuada es el F1 de la clase positiva (o, si se permite, el AUC-PR), porque equilibra precisión y recall y no se “infla” con la clase mayoritaria como la accuracy. Comparando ambos modelos, el Modelo 1 es ligeramente superior (mejor precisión, mejor recall y, por tanto, mejor F1 de la clase 1), así que lo elegiría como base y, según el objetivo del proyecto, ajustaría el umbral: si se busca minimizar falsos positivos, subirlo; si se busca capturar más seleccionados, bajarlo."
      ]
    },
    {
      "cell_type": "markdown",
      "metadata": {
        "id": "uy5VMU6ae_g6"
      },
      "source": [
        "## 2. Predicción de posiciones de jugadores [4 puntos]"
      ]
    },
    {
      "cell_type": "markdown",
      "metadata": {
        "id": "S0PGg_hLgr4H"
      },
      "source": [
        "<p align=\"center\">\n",
        "  <img src=\"https://pbs.twimg.com/media/E1rfA1aWEAYU6Ny.jpg\" width=\"300\">\n",
        "</p>"
      ]
    },
    {
      "cell_type": "markdown",
      "metadata": {
        "id": "I6rSnAesfOm3"
      },
      "source": [
        "En una nueva jornada de desmesuradas transacciones deportivas, Renacín escuchó a sus colegas discutir acerca de que el precio de cada jugador depende en gran medida de la posición en la cancha en la que juega. Y además, que hay bastantes jugadores nuevos que no tienen muy claro en que posición verdaderamente brillarían, por lo que actualmente puede que actualmente estén jugando en posiciones sub-optimas.\n",
        "\n",
        "Viendo que los resultados del primer análisis no son tan esperanzadores, el corporeo los comanda a cambiar su tarea: ahora, les solicita que construyan un clasificador enfocado en predecir la mejor posición de los jugadores en la cancha según sus características.\n",
        "\n",
        "Para lograr esto, primero, les pide que etiqueten de la siguiente manera los valores que aparecen en el atributo `Club_Position`, pidiendo que agrupen los valores en los siguientes grupos:\n",
        "\n",
        "**Nota**:  Renacín les recalca que **no deben utilizar los valores ```Sub``` y ```Res``` de esta columna**.\n",
        "\n",
        "```python\n",
        "ataque = ['ST', 'CF']\n",
        "central_ataque = ['RW', 'CAM', 'LW']\n",
        "central = ['RM', 'CM', 'LM']\n",
        "central_defensa = ['RWB', 'CDM', 'LWB']\n",
        "defensa = ['RB', 'CB', 'LB']\n",
        "arquero = ['GK']\n",
        "```\n",
        "\n",
        "La elección del clasificador se justificar en base a la siguiente [guía](https://scikit-learn.org/stable/tutorial/machine_learning_map/index.html) y se deben comentar los resultados obtenidos en la clasificación.\n",
        "\n",
        "**Tareas:** [1 punto por tarea]\n",
        "\n",
        "1. En un nuevo dataframe, aplique las etiquetas descritas anteriormente en cada uno de los valores señalados en esta sección y guárdelos en la variable `label`.\n",
        "2. Cuente cuántos por clase quedan.\n",
        "3. Entrene el nuevo pipeline y ejecute una evaluación de este.  \n",
        "4. Comente los resultados obtenidos."
      ]
    },
    {
      "cell_type": "markdown",
      "metadata": {
        "id": "sBmSaWh8i2MI"
      },
      "source": [
        "**Respuesta:**"
      ]
    },
    {
      "cell_type": "code",
      "execution_count": 43,
      "metadata": {
        "id": "Ir_7zMh2i1vg"
      },
      "outputs": [
        {
          "name": "stdout",
          "output_type": "stream",
          "text": [
            "Conteo por clase:\n",
            "label\n",
            "arquero             632\n",
            "ataque              430\n",
            "central             907\n",
            "central_ataque      581\n",
            "central_defensa     209\n",
            "defensa            1180\n",
            "Name: count, dtype: int64\n",
            "                 precision    recall  f1-score   support\n",
            "\n",
            "        arquero      1.000     1.000     1.000       126\n",
            "         ataque      0.755     0.860     0.804        86\n",
            "        central      0.616     0.626     0.621       182\n",
            " central_ataque      0.533     0.414     0.466       116\n",
            "central_defensa      0.333     0.167     0.222        42\n",
            "        defensa      0.840     0.953     0.893       236\n",
            "\n",
            "       accuracy                          0.754       788\n",
            "      macro avg      0.680     0.670     0.668       788\n",
            "   weighted avg      0.732     0.754     0.739       788\n",
            "\n"
          ]
        }
      ],
      "source": [
        "# Importamos las librerías necesarias\n",
        "from sklearn.utils.class_weight import compute_class_weight\n",
        "\n",
        "# ------------------- Pregunta 1 ------------------\n",
        "# Reiniciamos el dataset al original\n",
        "df = pd.read_csv(\"./stats_players.csv\")\n",
        "\n",
        "# Hacemos un diccionario con los grupos pedidos\n",
        "grupos = {\n",
        "    \"ataque\":          [\"ST\",\"CF\"],\n",
        "    \"central_ataque\":  [\"RW\",\"CAM\",\"LW\"],\n",
        "    \"central\":         [\"RM\",\"CM\",\"LM\"],\n",
        "    \"central_defensa\": [\"RWB\",\"CDM\",\"LWB\"],\n",
        "    \"defensa\":         [\"RB\",\"CB\",\"LB\"],\n",
        "    \"arquero\":         [\"GK\"]\n",
        "}\n",
        "\n",
        "# Hacemos un diccionario tal que por cada posición nos diga a qué grupo pertenece (solo para posiciones válidas)\n",
        "pos_to_grp = {pos: g for g, lst in grupos.items() for pos in lst}\n",
        "\n",
        "# Obtenemos la columna de Club_Position\n",
        "club_position = df[\"Club_Position\"]\n",
        "\n",
        "# Filtramos SOLO las posiciones válidas, excluyendo \"SUB\"/\"RES\" y NaN (no están en el mapa)\n",
        "valid_position = club_position.isin(pos_to_grp.keys())\n",
        "df_pos = df.loc[valid_position].copy()\n",
        "\n",
        "# Generamos la nueva columna pedida\n",
        "df_pos[\"label\"] = club_position[valid_position].map(pos_to_grp)\n",
        "\n",
        "# ------------------- Pregunta 2 ------------------\n",
        "print(\"Conteo por clase:\")\n",
        "print(df_pos[\"label\"].value_counts().sort_index())\n",
        "\n",
        "# ------------------- Pregunta 3 ------------------\n",
        "# Separamos las características predictoras de la variable objetivo\n",
        "X = df_pos.drop(columns=[\n",
        "        'Name', # Eliminamos Name porque no aporta información relevante\n",
        "        'Club_Position', # Eliminamos Club_Position porque da fuga de información\n",
        "        'label' # Eliminamos label porque es la variable objetivo\n",
        "        ]\n",
        "    )\n",
        "y = df_pos['label']\n",
        "\n",
        "# Separamos los tipos de variables\n",
        "num_features = X.select_dtypes(include=['int64', 'float64']).columns.to_list()\n",
        "cat_features = X.select_dtypes(include=['object']).columns.to_list()\n",
        "\n",
        "# Separamos las variables numéricas que pareecen seguir una distribución normal de las que no\n",
        "num_features_normal = ['Height', 'Weight', 'Age', 'Aggression', 'Reactions', 'Vision', 'Composure', 'Short_Pass', 'Long_Pass', 'Acceleration', 'Speed', 'Stamina', 'Strength', 'Balance', 'Agility', 'Jumping', 'Penalties']\n",
        "num_features_non_normal = list(set(num_features) - set(num_features_normal))\n",
        "\n",
        "# Definimos pipelines por tipo\n",
        "num_nom_pipeline = Pipeline(steps=[\n",
        "    ('scaler', StandardScaler())\n",
        "])\n",
        "\n",
        "num_non_nom_pipeline = Pipeline(steps=[\n",
        "    ('minmax', MinMaxScaler())\n",
        "])\n",
        "\n",
        "cat_pipeline = Pipeline(steps=[\n",
        "    ('onehot', OneHotEncoder(handle_unknown='ignore', sparse_output=False))\n",
        "])\n",
        "\n",
        "# Combinamos los pipelines en un ColumnTransformer\n",
        "col_transformer = ColumnTransformer(transformers=[\n",
        "        ('num_nom', num_nom_pipeline, num_features_normal),\n",
        "        ('num_non_nom', num_non_nom_pipeline, num_features_non_normal),\n",
        "        ('cat', cat_pipeline, cat_features)\n",
        "    ],\n",
        "    remainder='drop'\n",
        ")\n",
        "\n",
        "# Separamos los datos en entrenamiento y prueba\n",
        "X_train, X_test, y_train, y_test = train_test_split(X, y, test_size=0.20, stratify=y, random_state=42)\n",
        "\n",
        "# Pesos por clase (multiclase, para mejorar recall en clases minoritarias)\n",
        "classes = np.unique(y_train)\n",
        "class_weights = compute_class_weight(class_weight=\"balanced\", classes=classes, y=y_train)\n",
        "cw = dict(zip(classes, class_weights))\n",
        "\n",
        "# Hacemos el pipeline completo con LightGBM\n",
        "pipeline_lightgbm_multiclass = Pipeline(steps=[\n",
        "    (\"preprocessor\", col_transformer),\n",
        "    (\"model\", LGBMClassifier(\n",
        "        objective=\"multiclass\",\n",
        "        num_class=len(classes),\n",
        "        class_weight=cw,\n",
        "        n_estimators=400,\n",
        "        learning_rate=0.05,\n",
        "        max_depth=-1,\n",
        "        num_leaves=31,\n",
        "        subsample=0.8,\n",
        "        colsample_bytree=0.8,\n",
        "        random_state=42,\n",
        "        verbose=-1\n",
        "    ))\n",
        "])\n",
        "\n",
        "# Entrenamos y evaluamos el modelo\n",
        "pipeline_lightgbm_multiclass.fit(X_train, y_train)\n",
        "y_pred = pipeline_lightgbm_multiclass.predict(X_test)\n",
        "print(classification_report(y_test, y_pred, digits=3))\n"
      ]
    },
    {
      "cell_type": "markdown",
      "metadata": {},
      "source": [
        "**Respuesta:**\n",
        "\n",
        "**Pregunta 4:** En general, el clasificador logra un desempeño razonable (accuracy=0.754, macro-F1=0.668, weighted-F1=0.739), pero el rendimiento es muy desigual entre clases, coherente con el conteo por clase (defensa=1180, central=907, arquero=632, central_ataque=581, ataque=430, central_defensa=209). En el holdout, arquero es trivialmente separable (precisión=1.00, recall=1.00, F1=1.00; support=126), y defensa también destaca (0.84/0.953/0.893; 236), mientras que ataque obtiene buen recall (0.860) y F1=0.804 (86). En cambio, central queda en torno a 0.62 de F1 (182), central_ataque baja a F1=0.466 por su bajo recall (0.414; 116) y central_defensa es la más débil (precisión=0.333, recall=0.167, F1=0.222; 42). Esto sugiere que las características de arquero y defensa son muy distintivas, mientras que central, central_ataque y sobre todo central_defensa se solapan fuertemente (y además esta última tiene poca muestra), lo que eleva la confusión entre clases vecinas."
      ]
    },
    {
      "cell_type": "markdown",
      "metadata": {
        "id": "9bL2m8nNojXM"
      },
      "source": [
        "## 3. Predicciones de Seleccionados Nacionales para el Jere Klein [30 puntos]"
      ]
    },
    {
      "cell_type": "markdown",
      "metadata": {
        "id": "_2XmRsJdsEh_"
      },
      "source": [
        "<center>\n",
        "<img src='https://www.radioactiva.cl/wp-content/uploads/2024/04/Jere-Klein-1-768x432.webp' width=500 />"
      ]
    },
    {
      "cell_type": "markdown",
      "metadata": {
        "id": "AgmUoVDsqUPu"
      },
      "source": [
        "Después de alcanzar la fama como cantante urbano, Jere Klein decide explorar una nueva faceta. Con su amor por el fútbol y convencido de que los artistas urbanos poseen un talento y versatilidad excepcionales, Jere se embarca en un proyecto innovador: desarrollar un sistema de inteligencia artificial capaz de identificar a jugadores que tienen potencial para convertirse en futbolistas profesionales. Su teoría es que muchos artistas del género urbano chileno, con sus habilidades únicas y su disciplina, podrían destacarse también en el deporte. Con este sistema, Jere espera no solo abrir nuevas oportunidades para sus colegas artistas, sino también demostrar la amplia gama de talentos que pueden ofrecer."
      ]
    },
    {
      "cell_type": "markdown",
      "metadata": {
        "id": "rD8pQ5Zfq8dE"
      },
      "source": [
        "### 2.1 ¿Qué modelo de árbol es más de \"pana\"? [10 puntos]"
      ]
    },
    {
      "cell_type": "markdown",
      "metadata": {
        "id": "zB-KUA4g99eo"
      },
      "source": [
        "<center>\n",
        "<img src='https://64.media.tumblr.com/39189215a7d3d96823cb359f35b44e05/tumblr_psmrhrR3Xw1qf5hjqo4_540.gif' width=300 />"
      ]
    },
    {
      "cell_type": "markdown",
      "metadata": {
        "id": "uL-moVhB9vPH"
      },
      "source": [
        "\n",
        "**Tareas**\n",
        "\n",
        "\n",
        "1. Considerando el la variable llamada `label` creada en la sección 1.1. Para determinar cuál modelo de árbol sería más adecuado para la tarea en cuestión, utilice PyCaret. Este deberá centrarse exclusivamente en modelos de tipo árbol. Jere ha especificado que busca un modelo que tome decisiones rápidamente y que tenga una baja tasa de falsos positivos, ya que planea invertir en estos jugadores. [3 puntos]\n",
        "\n",
        "Para la comparación, utilice los siguientes modelos:\n",
        "\n",
        "```python\n",
        "['et', 'rf', 'dt', 'xgboost', 'lightgbm', 'catboost']\n",
        "```\n",
        "\n",
        "2. Explique en brevemente que son los modelos de la siguiente lista `['et', 'rf', 'dt']` y como funcionan. [3 punto]\n",
        "\n",
        "3. Tras realizar la comparación de modelos, seleccione aquel que muestre el mejor rendimiento en términos de velocidad y precisión, especialmente en la reducción de falsos positivos. Utilice la función `evaluate_model` de PyCaret para revisar y analizar los resultados obtenidos en los siguientes aspectos:\n",
        "\n",
        "  - **Confusión Matrix**: ¿Cómo se encuentran la tasa de verdaderos positivos y verdaderos negativos?\n",
        "  - **Threshold**: ¿Es acaso el umbral por defecto del modelo el mejor para las predicciones?\n",
        "  - **Feature Importance**: ¿Cuáles son las variables con mejor desempeño? ¿A qué podría deberse esto?\n",
        "  - **Learning Curve**: ¿El modelo presenta algún problema?\n",
        "\n",
        "  [4 puntos]"
      ]
    },
    {
      "cell_type": "markdown",
      "metadata": {
        "id": "qY85nrViYROF"
      },
      "source": [
        "**Respuesta**"
      ]
    },
    {
      "cell_type": "code",
      "execution_count": 44,
      "metadata": {
        "id": "kUCjOjsEYUXL"
      },
      "outputs": [
        {
          "data": {
            "text/html": [],
            "text/plain": [
              "<IPython.core.display.HTML object>"
            ]
          },
          "metadata": {},
          "output_type": "display_data"
        },
        {
          "data": {
            "text/html": [
              "<style type=\"text/css\">\n",
              "#T_4e5da th {\n",
              "  text-align: left;\n",
              "}\n",
              "#T_4e5da_row0_col0, #T_4e5da_row0_col1, #T_4e5da_row0_col2, #T_4e5da_row0_col3, #T_4e5da_row0_col5, #T_4e5da_row0_col6, #T_4e5da_row0_col7, #T_4e5da_row1_col0, #T_4e5da_row1_col1, #T_4e5da_row1_col2, #T_4e5da_row1_col3, #T_4e5da_row1_col4, #T_4e5da_row1_col5, #T_4e5da_row1_col6, #T_4e5da_row1_col7, #T_4e5da_row2_col0, #T_4e5da_row2_col3, #T_4e5da_row2_col4, #T_4e5da_row3_col0, #T_4e5da_row3_col1, #T_4e5da_row3_col2, #T_4e5da_row3_col3, #T_4e5da_row3_col4, #T_4e5da_row3_col5, #T_4e5da_row3_col6, #T_4e5da_row3_col7, #T_4e5da_row4_col0, #T_4e5da_row4_col1, #T_4e5da_row4_col2, #T_4e5da_row4_col3, #T_4e5da_row4_col4, #T_4e5da_row4_col5, #T_4e5da_row4_col6, #T_4e5da_row4_col7, #T_4e5da_row5_col0, #T_4e5da_row5_col1, #T_4e5da_row5_col2, #T_4e5da_row5_col4, #T_4e5da_row5_col5, #T_4e5da_row5_col6, #T_4e5da_row5_col7 {\n",
              "  text-align: left;\n",
              "}\n",
              "#T_4e5da_row0_col4, #T_4e5da_row2_col1, #T_4e5da_row2_col2, #T_4e5da_row2_col5, #T_4e5da_row2_col6, #T_4e5da_row2_col7, #T_4e5da_row5_col3 {\n",
              "  text-align: left;\n",
              "  background-color: yellow;\n",
              "}\n",
              "#T_4e5da_row0_col8, #T_4e5da_row1_col8, #T_4e5da_row2_col8, #T_4e5da_row3_col8, #T_4e5da_row4_col8 {\n",
              "  text-align: left;\n",
              "  background-color: lightgrey;\n",
              "}\n",
              "#T_4e5da_row5_col8 {\n",
              "  text-align: left;\n",
              "  background-color: yellow;\n",
              "  background-color: lightgrey;\n",
              "}\n",
              "</style>\n",
              "<table id=\"T_4e5da\">\n",
              "  <thead>\n",
              "    <tr>\n",
              "      <th class=\"blank level0\" >&nbsp;</th>\n",
              "      <th id=\"T_4e5da_level0_col0\" class=\"col_heading level0 col0\" >Model</th>\n",
              "      <th id=\"T_4e5da_level0_col1\" class=\"col_heading level0 col1\" >Accuracy</th>\n",
              "      <th id=\"T_4e5da_level0_col2\" class=\"col_heading level0 col2\" >AUC</th>\n",
              "      <th id=\"T_4e5da_level0_col3\" class=\"col_heading level0 col3\" >Recall</th>\n",
              "      <th id=\"T_4e5da_level0_col4\" class=\"col_heading level0 col4\" >Prec.</th>\n",
              "      <th id=\"T_4e5da_level0_col5\" class=\"col_heading level0 col5\" >F1</th>\n",
              "      <th id=\"T_4e5da_level0_col6\" class=\"col_heading level0 col6\" >Kappa</th>\n",
              "      <th id=\"T_4e5da_level0_col7\" class=\"col_heading level0 col7\" >MCC</th>\n",
              "      <th id=\"T_4e5da_level0_col8\" class=\"col_heading level0 col8\" >TT (Sec)</th>\n",
              "    </tr>\n",
              "  </thead>\n",
              "  <tbody>\n",
              "    <tr>\n",
              "      <th id=\"T_4e5da_level0_row0\" class=\"row_heading level0 row0\" >et</th>\n",
              "      <td id=\"T_4e5da_row0_col0\" class=\"data row0 col0\" >Extra Trees Classifier</td>\n",
              "      <td id=\"T_4e5da_row0_col1\" class=\"data row0 col1\" >0.9435</td>\n",
              "      <td id=\"T_4e5da_row0_col2\" class=\"data row0 col2\" >0.9448</td>\n",
              "      <td id=\"T_4e5da_row0_col3\" class=\"data row0 col3\" >0.1221</td>\n",
              "      <td id=\"T_4e5da_row0_col4\" class=\"data row0 col4\" >0.7261</td>\n",
              "      <td id=\"T_4e5da_row0_col5\" class=\"data row0 col5\" >0.2081</td>\n",
              "      <td id=\"T_4e5da_row0_col6\" class=\"data row0 col6\" >0.1941</td>\n",
              "      <td id=\"T_4e5da_row0_col7\" class=\"data row0 col7\" >0.2817</td>\n",
              "      <td id=\"T_4e5da_row0_col8\" class=\"data row0 col8\" >0.1820</td>\n",
              "    </tr>\n",
              "    <tr>\n",
              "      <th id=\"T_4e5da_level0_row1\" class=\"row_heading level0 row1\" >rf</th>\n",
              "      <td id=\"T_4e5da_row1_col0\" class=\"data row1 col0\" >Random Forest Classifier</td>\n",
              "      <td id=\"T_4e5da_row1_col1\" class=\"data row1 col1\" >0.9470</td>\n",
              "      <td id=\"T_4e5da_row1_col2\" class=\"data row1 col2\" >0.9445</td>\n",
              "      <td id=\"T_4e5da_row1_col3\" class=\"data row1 col3\" >0.2349</td>\n",
              "      <td id=\"T_4e5da_row1_col4\" class=\"data row1 col4\" >0.7136</td>\n",
              "      <td id=\"T_4e5da_row1_col5\" class=\"data row1 col5\" >0.3515</td>\n",
              "      <td id=\"T_4e5da_row1_col6\" class=\"data row1 col6\" >0.3310</td>\n",
              "      <td id=\"T_4e5da_row1_col7\" class=\"data row1 col7\" >0.3885</td>\n",
              "      <td id=\"T_4e5da_row1_col8\" class=\"data row1 col8\" >0.2960</td>\n",
              "    </tr>\n",
              "    <tr>\n",
              "      <th id=\"T_4e5da_level0_row2\" class=\"row_heading level0 row2\" >lightgbm</th>\n",
              "      <td id=\"T_4e5da_row2_col0\" class=\"data row2 col0\" >Light Gradient Boosting Machine</td>\n",
              "      <td id=\"T_4e5da_row2_col1\" class=\"data row2 col1\" >0.9517</td>\n",
              "      <td id=\"T_4e5da_row2_col2\" class=\"data row2 col2\" >0.9598</td>\n",
              "      <td id=\"T_4e5da_row2_col3\" class=\"data row2 col3\" >0.4372</td>\n",
              "      <td id=\"T_4e5da_row2_col4\" class=\"data row2 col4\" >0.6606</td>\n",
              "      <td id=\"T_4e5da_row2_col5\" class=\"data row2 col5\" >0.5255</td>\n",
              "      <td id=\"T_4e5da_row2_col6\" class=\"data row2 col6\" >0.5012</td>\n",
              "      <td id=\"T_4e5da_row2_col7\" class=\"data row2 col7\" >0.5134</td>\n",
              "      <td id=\"T_4e5da_row2_col8\" class=\"data row2 col8\" >0.2520</td>\n",
              "    </tr>\n",
              "    <tr>\n",
              "      <th id=\"T_4e5da_level0_row3\" class=\"row_heading level0 row3\" >catboost</th>\n",
              "      <td id=\"T_4e5da_row3_col0\" class=\"data row3 col0\" >CatBoost Classifier</td>\n",
              "      <td id=\"T_4e5da_row3_col1\" class=\"data row3 col1\" >0.9505</td>\n",
              "      <td id=\"T_4e5da_row3_col2\" class=\"data row3 col2\" >0.9577</td>\n",
              "      <td id=\"T_4e5da_row3_col3\" class=\"data row3 col3\" >0.4128</td>\n",
              "      <td id=\"T_4e5da_row3_col4\" class=\"data row3 col4\" >0.6557</td>\n",
              "      <td id=\"T_4e5da_row3_col5\" class=\"data row3 col5\" >0.5053</td>\n",
              "      <td id=\"T_4e5da_row3_col6\" class=\"data row3 col6\" >0.4807</td>\n",
              "      <td id=\"T_4e5da_row3_col7\" class=\"data row3 col7\" >0.4957</td>\n",
              "      <td id=\"T_4e5da_row3_col8\" class=\"data row3 col8\" >3.9440</td>\n",
              "    </tr>\n",
              "    <tr>\n",
              "      <th id=\"T_4e5da_level0_row4\" class=\"row_heading level0 row4\" >xgboost</th>\n",
              "      <td id=\"T_4e5da_row4_col0\" class=\"data row4 col0\" >Extreme Gradient Boosting</td>\n",
              "      <td id=\"T_4e5da_row4_col1\" class=\"data row4 col1\" >0.9498</td>\n",
              "      <td id=\"T_4e5da_row4_col2\" class=\"data row4 col2\" >0.9552</td>\n",
              "      <td id=\"T_4e5da_row4_col3\" class=\"data row4 col3\" >0.4314</td>\n",
              "      <td id=\"T_4e5da_row4_col4\" class=\"data row4 col4\" >0.6317</td>\n",
              "      <td id=\"T_4e5da_row4_col5\" class=\"data row4 col5\" >0.5122</td>\n",
              "      <td id=\"T_4e5da_row4_col6\" class=\"data row4 col6\" >0.4868</td>\n",
              "      <td id=\"T_4e5da_row4_col7\" class=\"data row4 col7\" >0.4969</td>\n",
              "      <td id=\"T_4e5da_row4_col8\" class=\"data row4 col8\" >0.1480</td>\n",
              "    </tr>\n",
              "    <tr>\n",
              "      <th id=\"T_4e5da_level0_row5\" class=\"row_heading level0 row5\" >dt</th>\n",
              "      <td id=\"T_4e5da_row5_col0\" class=\"data row5 col0\" >Decision Tree Classifier</td>\n",
              "      <td id=\"T_4e5da_row5_col1\" class=\"data row5 col1\" >0.9316</td>\n",
              "      <td id=\"T_4e5da_row5_col2\" class=\"data row5 col2\" >0.7098</td>\n",
              "      <td id=\"T_4e5da_row5_col3\" class=\"data row5 col3\" >0.4570</td>\n",
              "      <td id=\"T_4e5da_row5_col4\" class=\"data row5 col4\" >0.4433</td>\n",
              "      <td id=\"T_4e5da_row5_col5\" class=\"data row5 col5\" >0.4496</td>\n",
              "      <td id=\"T_4e5da_row5_col6\" class=\"data row5 col6\" >0.4132</td>\n",
              "      <td id=\"T_4e5da_row5_col7\" class=\"data row5 col7\" >0.4135</td>\n",
              "      <td id=\"T_4e5da_row5_col8\" class=\"data row5 col8\" >0.0880</td>\n",
              "    </tr>\n",
              "  </tbody>\n",
              "</table>\n"
            ],
            "text/plain": [
              "<pandas.io.formats.style.Styler at 0x254164e1650>"
            ]
          },
          "metadata": {},
          "output_type": "display_data"
        },
        {
          "data": {
            "text/html": [],
            "text/plain": [
              "<IPython.core.display.HTML object>"
            ]
          },
          "metadata": {},
          "output_type": "display_data"
        },
        {
          "name": "stdout",
          "output_type": "stream",
          "text": [
            "TOP modelos por Precision:\n",
            "                                    Model  Accuracy     AUC  Recall   Prec.  \\\n",
            "et                 Extra Trees Classifier    0.9435  0.9448  0.1221  0.7261   \n",
            "rf               Random Forest Classifier    0.9470  0.9445  0.2349  0.7136   \n",
            "lightgbm  Light Gradient Boosting Machine    0.9517  0.9598  0.4372  0.6606   \n",
            "catboost              CatBoost Classifier    0.9505  0.9577  0.4128  0.6557   \n",
            "xgboost         Extreme Gradient Boosting    0.9498  0.9552  0.4314  0.6317   \n",
            "dt               Decision Tree Classifier    0.9316  0.7098  0.4570  0.4433   \n",
            "\n",
            "              F1   Kappa     MCC  TT (Sec)  \n",
            "et        0.2081  0.1941  0.2817     0.182  \n",
            "rf        0.3515  0.3310  0.3885     0.296  \n",
            "lightgbm  0.5255  0.5012  0.5134     0.252  \n",
            "catboost  0.5053  0.4807  0.4957     3.944  \n",
            "xgboost   0.5122  0.4868  0.4969     0.148  \n",
            "dt        0.4496  0.4132  0.4135     0.088  \n"
          ]
        },
        {
          "data": {
            "text/html": [],
            "text/plain": [
              "<IPython.core.display.HTML object>"
            ]
          },
          "metadata": {},
          "output_type": "display_data"
        },
        {
          "data": {
            "text/html": [
              "<style type=\"text/css\">\n",
              "#T_fc61d_row5_col0, #T_fc61d_row5_col1, #T_fc61d_row5_col2, #T_fc61d_row5_col3, #T_fc61d_row5_col4, #T_fc61d_row5_col5, #T_fc61d_row5_col6 {\n",
              "  background: yellow;\n",
              "}\n",
              "</style>\n",
              "<table id=\"T_fc61d\">\n",
              "  <thead>\n",
              "    <tr>\n",
              "      <th class=\"blank level0\" >&nbsp;</th>\n",
              "      <th id=\"T_fc61d_level0_col0\" class=\"col_heading level0 col0\" >Accuracy</th>\n",
              "      <th id=\"T_fc61d_level0_col1\" class=\"col_heading level0 col1\" >AUC</th>\n",
              "      <th id=\"T_fc61d_level0_col2\" class=\"col_heading level0 col2\" >Recall</th>\n",
              "      <th id=\"T_fc61d_level0_col3\" class=\"col_heading level0 col3\" >Prec.</th>\n",
              "      <th id=\"T_fc61d_level0_col4\" class=\"col_heading level0 col4\" >F1</th>\n",
              "      <th id=\"T_fc61d_level0_col5\" class=\"col_heading level0 col5\" >Kappa</th>\n",
              "      <th id=\"T_fc61d_level0_col6\" class=\"col_heading level0 col6\" >MCC</th>\n",
              "    </tr>\n",
              "    <tr>\n",
              "      <th class=\"index_name level0\" >Fold</th>\n",
              "      <th class=\"blank col0\" >&nbsp;</th>\n",
              "      <th class=\"blank col1\" >&nbsp;</th>\n",
              "      <th class=\"blank col2\" >&nbsp;</th>\n",
              "      <th class=\"blank col3\" >&nbsp;</th>\n",
              "      <th class=\"blank col4\" >&nbsp;</th>\n",
              "      <th class=\"blank col5\" >&nbsp;</th>\n",
              "      <th class=\"blank col6\" >&nbsp;</th>\n",
              "    </tr>\n",
              "  </thead>\n",
              "  <tbody>\n",
              "    <tr>\n",
              "      <th id=\"T_fc61d_level0_row0\" class=\"row_heading level0 row0\" >0</th>\n",
              "      <td id=\"T_fc61d_row0_col0\" class=\"data row0 col0\" >0.9389</td>\n",
              "      <td id=\"T_fc61d_row0_col1\" class=\"data row0 col1\" >0.9376</td>\n",
              "      <td id=\"T_fc61d_row0_col2\" class=\"data row0 col2\" >0.0000</td>\n",
              "      <td id=\"T_fc61d_row0_col3\" class=\"data row0 col3\" >0.0000</td>\n",
              "      <td id=\"T_fc61d_row0_col4\" class=\"data row0 col4\" >0.0000</td>\n",
              "      <td id=\"T_fc61d_row0_col5\" class=\"data row0 col5\" >0.0000</td>\n",
              "      <td id=\"T_fc61d_row0_col6\" class=\"data row0 col6\" >0.0000</td>\n",
              "    </tr>\n",
              "    <tr>\n",
              "      <th id=\"T_fc61d_level0_row1\" class=\"row_heading level0 row1\" >1</th>\n",
              "      <td id=\"T_fc61d_row1_col0\" class=\"data row1 col0\" >0.9392</td>\n",
              "      <td id=\"T_fc61d_row1_col1\" class=\"data row1 col1\" >0.9344</td>\n",
              "      <td id=\"T_fc61d_row1_col2\" class=\"data row1 col2\" >0.0058</td>\n",
              "      <td id=\"T_fc61d_row1_col3\" class=\"data row1 col3\" >1.0000</td>\n",
              "      <td id=\"T_fc61d_row1_col4\" class=\"data row1 col4\" >0.0116</td>\n",
              "      <td id=\"T_fc61d_row1_col5\" class=\"data row1 col5\" >0.0109</td>\n",
              "      <td id=\"T_fc61d_row1_col6\" class=\"data row1 col6\" >0.0739</td>\n",
              "    </tr>\n",
              "    <tr>\n",
              "      <th id=\"T_fc61d_level0_row2\" class=\"row_heading level0 row2\" >2</th>\n",
              "      <td id=\"T_fc61d_row2_col0\" class=\"data row2 col0\" >0.9389</td>\n",
              "      <td id=\"T_fc61d_row2_col1\" class=\"data row2 col1\" >0.9442</td>\n",
              "      <td id=\"T_fc61d_row2_col2\" class=\"data row2 col2\" >0.0000</td>\n",
              "      <td id=\"T_fc61d_row2_col3\" class=\"data row2 col3\" >0.0000</td>\n",
              "      <td id=\"T_fc61d_row2_col4\" class=\"data row2 col4\" >0.0000</td>\n",
              "      <td id=\"T_fc61d_row2_col5\" class=\"data row2 col5\" >0.0000</td>\n",
              "      <td id=\"T_fc61d_row2_col6\" class=\"data row2 col6\" >0.0000</td>\n",
              "    </tr>\n",
              "    <tr>\n",
              "      <th id=\"T_fc61d_level0_row3\" class=\"row_heading level0 row3\" >3</th>\n",
              "      <td id=\"T_fc61d_row3_col0\" class=\"data row3 col0\" >0.9396</td>\n",
              "      <td id=\"T_fc61d_row3_col1\" class=\"data row3 col1\" >0.9373</td>\n",
              "      <td id=\"T_fc61d_row3_col2\" class=\"data row3 col2\" >0.0116</td>\n",
              "      <td id=\"T_fc61d_row3_col3\" class=\"data row3 col3\" >1.0000</td>\n",
              "      <td id=\"T_fc61d_row3_col4\" class=\"data row3 col4\" >0.0230</td>\n",
              "      <td id=\"T_fc61d_row3_col5\" class=\"data row3 col5\" >0.0216</td>\n",
              "      <td id=\"T_fc61d_row3_col6\" class=\"data row3 col6\" >0.1045</td>\n",
              "    </tr>\n",
              "    <tr>\n",
              "      <th id=\"T_fc61d_level0_row4\" class=\"row_heading level0 row4\" >4</th>\n",
              "      <td id=\"T_fc61d_row4_col0\" class=\"data row4 col0\" >0.9389</td>\n",
              "      <td id=\"T_fc61d_row4_col1\" class=\"data row4 col1\" >0.9452</td>\n",
              "      <td id=\"T_fc61d_row4_col2\" class=\"data row4 col2\" >0.0000</td>\n",
              "      <td id=\"T_fc61d_row4_col3\" class=\"data row4 col3\" >0.0000</td>\n",
              "      <td id=\"T_fc61d_row4_col4\" class=\"data row4 col4\" >0.0000</td>\n",
              "      <td id=\"T_fc61d_row4_col5\" class=\"data row4 col5\" >0.0000</td>\n",
              "      <td id=\"T_fc61d_row4_col6\" class=\"data row4 col6\" >0.0000</td>\n",
              "    </tr>\n",
              "    <tr>\n",
              "      <th id=\"T_fc61d_level0_row5\" class=\"row_heading level0 row5\" >Mean</th>\n",
              "      <td id=\"T_fc61d_row5_col0\" class=\"data row5 col0\" >0.9391</td>\n",
              "      <td id=\"T_fc61d_row5_col1\" class=\"data row5 col1\" >0.9397</td>\n",
              "      <td id=\"T_fc61d_row5_col2\" class=\"data row5 col2\" >0.0035</td>\n",
              "      <td id=\"T_fc61d_row5_col3\" class=\"data row5 col3\" >0.4000</td>\n",
              "      <td id=\"T_fc61d_row5_col4\" class=\"data row5 col4\" >0.0069</td>\n",
              "      <td id=\"T_fc61d_row5_col5\" class=\"data row5 col5\" >0.0065</td>\n",
              "      <td id=\"T_fc61d_row5_col6\" class=\"data row5 col6\" >0.0357</td>\n",
              "    </tr>\n",
              "    <tr>\n",
              "      <th id=\"T_fc61d_level0_row6\" class=\"row_heading level0 row6\" >Std</th>\n",
              "      <td id=\"T_fc61d_row6_col0\" class=\"data row6 col0\" >0.0003</td>\n",
              "      <td id=\"T_fc61d_row6_col1\" class=\"data row6 col1\" >0.0042</td>\n",
              "      <td id=\"T_fc61d_row6_col2\" class=\"data row6 col2\" >0.0047</td>\n",
              "      <td id=\"T_fc61d_row6_col3\" class=\"data row6 col3\" >0.4899</td>\n",
              "      <td id=\"T_fc61d_row6_col4\" class=\"data row6 col4\" >0.0092</td>\n",
              "      <td id=\"T_fc61d_row6_col5\" class=\"data row6 col5\" >0.0087</td>\n",
              "      <td id=\"T_fc61d_row6_col6\" class=\"data row6 col6\" >0.0448</td>\n",
              "    </tr>\n",
              "  </tbody>\n",
              "</table>\n"
            ],
            "text/plain": [
              "<pandas.io.formats.style.Styler at 0x253b78243d0>"
            ]
          },
          "metadata": {},
          "output_type": "display_data"
        },
        {
          "data": {
            "text/html": [],
            "text/plain": [
              "<IPython.core.display.HTML object>"
            ]
          },
          "metadata": {},
          "output_type": "display_data"
        },
        {
          "name": "stdout",
          "output_type": "stream",
          "text": [
            "Fitting 5 folds for each of 10 candidates, totalling 50 fits\n",
            "Original model was better than the tuned model, hence it will be returned. NOTE: The display metrics are for the tuned model (not the original one).\n"
          ]
        },
        {
          "data": {
            "application/vnd.jupyter.widget-view+json": {
              "model_id": "6c34adf1e88b4f3f8acb52306fb08925",
              "version_major": 2,
              "version_minor": 0
            },
            "text/plain": [
              "interactive(children=(ToggleButtons(description='Plot Type:', icons=('',), options=(('Pipeline Plot', 'pipelin…"
            ]
          },
          "metadata": {},
          "output_type": "display_data"
        },
        {
          "data": {
            "text/html": [],
            "text/plain": [
              "<IPython.core.display.HTML object>"
            ]
          },
          "metadata": {},
          "output_type": "display_data"
        },
        {
          "data": {
            "image/png": "[encoded data removed]",
            "text/plain": [
              "<Figure size 800x550 with 1 Axes>"
            ]
          },
          "metadata": {},
          "output_type": "display_data"
        },
        {
          "data": {
            "text/html": [],
            "text/plain": [
              "<IPython.core.display.HTML object>"
            ]
          },
          "metadata": {},
          "output_type": "display_data"
        },
        {
          "data": {
            "image/png": "[encoded data removed]",
            "text/plain": [
              "<Figure size 800x550 with 1 Axes>"
            ]
          },
          "metadata": {},
          "output_type": "display_data"
        },
        {
          "data": {
            "text/html": [],
            "text/plain": [
              "<IPython.core.display.HTML object>"
            ]
          },
          "metadata": {},
          "output_type": "display_data"
        },
        {
          "data": {
            "image/png": "[encoded data removed]",
            "text/plain": [
              "<Figure size 800x500 with 1 Axes>"
            ]
          },
          "metadata": {},
          "output_type": "display_data"
        },
        {
          "data": {
            "text/html": [],
            "text/plain": [
              "<IPython.core.display.HTML object>"
            ]
          },
          "metadata": {},
          "output_type": "display_data"
        },
        {
          "data": {
            "image/png": "[encoded data removed]",
            "text/plain": [
              "<Figure size 800x550 with 1 Axes>"
            ]
          },
          "metadata": {},
          "output_type": "display_data"
        },
        {
          "data": {
            "text/html": [
              "<style type=\"text/css\">\n",
              "</style>\n",
              "<table id=\"T_accf7\">\n",
              "  <thead>\n",
              "    <tr>\n",
              "      <th class=\"blank level0\" >&nbsp;</th>\n",
              "      <th id=\"T_accf7_level0_col0\" class=\"col_heading level0 col0\" >Model</th>\n",
              "      <th id=\"T_accf7_level0_col1\" class=\"col_heading level0 col1\" >Accuracy</th>\n",
              "      <th id=\"T_accf7_level0_col2\" class=\"col_heading level0 col2\" >AUC</th>\n",
              "      <th id=\"T_accf7_level0_col3\" class=\"col_heading level0 col3\" >Recall</th>\n",
              "      <th id=\"T_accf7_level0_col4\" class=\"col_heading level0 col4\" >Prec.</th>\n",
              "      <th id=\"T_accf7_level0_col5\" class=\"col_heading level0 col5\" >F1</th>\n",
              "      <th id=\"T_accf7_level0_col6\" class=\"col_heading level0 col6\" >Kappa</th>\n",
              "      <th id=\"T_accf7_level0_col7\" class=\"col_heading level0 col7\" >MCC</th>\n",
              "    </tr>\n",
              "  </thead>\n",
              "  <tbody>\n",
              "    <tr>\n",
              "      <th id=\"T_accf7_level0_row0\" class=\"row_heading level0 row0\" >0</th>\n",
              "      <td id=\"T_accf7_row0_col0\" class=\"data row0 col0\" >Extra Trees Classifier</td>\n",
              "      <td id=\"T_accf7_row0_col1\" class=\"data row0 col1\" >0.9468</td>\n",
              "      <td id=\"T_accf7_row0_col2\" class=\"data row0 col2\" >0.9433</td>\n",
              "      <td id=\"T_accf7_row0_col3\" class=\"data row0 col3\" >0.1814</td>\n",
              "      <td id=\"T_accf7_row0_col4\" class=\"data row0 col4\" >0.7800</td>\n",
              "      <td id=\"T_accf7_row0_col5\" class=\"data row0 col5\" >0.2943</td>\n",
              "      <td id=\"T_accf7_row0_col6\" class=\"data row0 col6\" >0.2777</td>\n",
              "      <td id=\"T_accf7_row0_col7\" class=\"data row0 col7\" >0.3604</td>\n",
              "    </tr>\n",
              "  </tbody>\n",
              "</table>\n"
            ],
            "text/plain": [
              "<pandas.io.formats.style.Styler at 0x25411e978d0>"
            ]
          },
          "metadata": {},
          "output_type": "display_data"
        },
        {
          "name": "stdout",
          "output_type": "stream",
          "text": [
            "\n",
            "=== Reporte (umbral por defecto = 0.5) ===\n",
            "              precision    recall  f1-score   support\n",
            "\n",
            "           0      0.949     0.997     0.972      3303\n",
            "           1      0.780     0.181     0.294       215\n",
            "\n",
            "    accuracy                          0.947      3518\n",
            "   macro avg      0.865     0.589     0.633      3518\n",
            "weighted avg      0.939     0.947     0.931      3518\n",
            "\n",
            "Matriz de confusión (thr=0.5):\n",
            "[[3292   11]\n",
            " [ 176   39]]\n",
            "Transformation Pipeline and Model Successfully Saved\n"
          ]
        },
        {
          "data": {
            "text/plain": [
              "(Pipeline(memory=Memory(location=None),\n",
              "          steps=[('numerical_imputer',\n",
              "                  TransformerWrapper(exclude=None,\n",
              "                                     include=['Height', 'Weight', 'Age',\n",
              "                                              'Weak_foot', 'Skill_Moves',\n",
              "                                              'Ball_Control', 'Dribbling',\n",
              "                                              'Marking', 'Sliding_Tackle',\n",
              "                                              'Standing_Tackle', 'Aggression',\n",
              "                                              'Reactions', 'Interceptions',\n",
              "                                              'Vision', 'Composure', 'Crossing',\n",
              "                                              'Short_Pass', 'Long_Pass',\n",
              "                                              'Acceleration', 'Speed',...\n",
              "                  ExtraTreesClassifier(bootstrap=False, ccp_alpha=0.0,\n",
              "                                       class_weight=None, criterion='gini',\n",
              "                                       max_depth=None, max_features='sqrt',\n",
              "                                       max_leaf_nodes=None, max_samples=None,\n",
              "                                       min_impurity_decrease=0.0,\n",
              "                                       min_samples_leaf=1, min_samples_split=2,\n",
              "                                       min_weight_fraction_leaf=0.0,\n",
              "                                       monotonic_cst=None, n_estimators=100,\n",
              "                                       n_jobs=-1, oob_score=False,\n",
              "                                       random_state=42, verbose=0,\n",
              "                                       warm_start=False))],\n",
              "          verbose=False),\n",
              " 'best_tree_model.pkl')"
            ]
          },
          "execution_count": 44,
          "metadata": {},
          "output_type": "execute_result"
        }
      ],
      "source": [
        "# Importamos las librerías necesarias\n",
        "from pycaret.datasets import get_data\n",
        "from pycaret.classification import *\n",
        "from sklearn.metrics import classification_report, confusion_matrix\n",
        "import os\n",
        "\n",
        "os.environ[\"PYCARET_CUSTOM_LOGGING_LEVEL\"] = \"CRITICAL\"\n",
        "\n",
        "# ------------------- Pregunta 1 ------------------\n",
        "# Cargamos los datos y construimos la etiqueta pedida igual que en la Parte 1\n",
        "df = pd.read_csv(\"stats_players.csv\")\n",
        "df[\"label\"] = df[\"National_Position\"].notna().astype(int)\n",
        "\n",
        "# Evitamos fugas/ruido obvio como features (no sacamos label porque lo pide PyCaret)\n",
        "data = df.drop(columns=[\n",
        "        'Name', # Eliminamos Name porque no aporta información relevante\n",
        "        'National_Position', # Eliminamos National_Position porque causa fuga de información\n",
        "        ]\n",
        "    )\n",
        "\n",
        "# Hacemos un setup de PyCaret para clasificación binaria\n",
        "clf = setup(\n",
        "    data=data,\n",
        "    target=\"label\",\n",
        "    session_id=42,\n",
        "    train_size=0.8,\n",
        "    fold=5, fold_shuffle=True,\n",
        "    verbose=False\n",
        ")\n",
        "\n",
        "# Creamos una lista con los modelos de árbol que queremos comparar\n",
        "models = ['et', 'rf', 'dt', 'xgboost', 'lightgbm', 'catboost']\n",
        "\n",
        "# Obtenemos el mejor modelo según Precision\n",
        "best = compare_models(include=models, sort=\"Precision\")\n",
        "leaderboard = pull()\n",
        "print(\"TOP modelos por Precision:\")\n",
        "print(leaderboard.head(10))\n",
        "\n",
        "# Afinamos el mejor modelo optimizando Precision (menos falsos positivos)\n",
        "tuned = tune_model(best, optimize=\"Precision\", choose_better=True)\n",
        "\n",
        "# Hacemos la evaluación visual requerida\n",
        "evaluate_model(tuned)\n",
        "plot_model(tuned, plot=\"confusion_matrix\")\n",
        "plot_model(tuned, plot=\"threshold\")\n",
        "plot_model(tuned, plot=\"feature\")\n",
        "plot_model(tuned, plot=\"learning\")\n",
        "\n",
        "# Hacemos predicciones en el holdout\n",
        "holdout = predict_model(tuned)\n",
        "y_true  = holdout[\"label\"]\n",
        "y_pred  = holdout[\"prediction_label\"]\n",
        "\n",
        "# Usamos classification_report y confusion_matrix de sklearn para el reporte final\n",
        "print(\"\\n=== Reporte (umbral por defecto = 0.5) ===\")\n",
        "print(classification_report(y_true, y_pred, digits=3))\n",
        "print(\"Matriz de confusión (thr=0.5):\")\n",
        "print(confusion_matrix(y_true, y_pred))\n",
        "\n",
        "# Hacemos el modelo final entrenado en todo el dataset y guardado\n",
        "final_model = finalize_model(tuned)\n",
        "save_model(final_model, \"best_tree_model\")"
      ]
    },
    {
      "cell_type": "markdown",
      "metadata": {},
      "source": [
        "**Respuesta:**\n",
        "\n",
        "**Pregunta 2:**\n",
        "\n",
        "**dt (Decision Tree):** Es un único árbol que divide recursivamente el espacio de atributos eligiendo en cada nodo el split que maximiza la pureza. Es muy interpretable y de inferencia rapidísima, pero tiende a sobreajustar si no se \"poda\" o limita (profundidad, hojas mínimas).\n",
        "\n",
        "**rf (Random Forest):** Es un ensamble por bagging de muchos árboles que consiste en que cada árbol se entrena con un bootstrap distinto de las filas y, en cada nodo, prueba solo un subconjunto aleatorio de variables. Al promediar/votar, reduce fuertemente la varianza del árbol individual, generaliza mejor y sigue siendo rápido en inferencia (aunque más pesado que un dt). No necesita escalado y maneja relaciones no lineales e interacciones.\n",
        "\n",
        "**et (Extra Trees / Extremely Randomized Trees):** Es parecido a random forest, pero añade más aleatoriedad en el sentido de que en cada nodo toma umbrales aleatorios para las variables en lugar de buscar el mejor exacto (y por defecto suele no usar bootstrap, no como random forest). Eso hace el entrenamiento más rápido, baja aún más la varianza (menor sobreajuste), pero hay algo más de sesgo. En la práctica suele rendir parecido o mejor que random forest en datasets ruidosos debido a su aleatoriedad.\n",
        "\n",
        "En los tres casos la predicción final es por votación (o probabilidad promedio) de los árboles; pueden controlar errores (por ejemplo falsos positivos) ajustando el umbral de decisión o usando pesos de clase.\n",
        "\n",
        "**Pregunta 3:**\n",
        "\n",
        "Dado el desbalance y la exigencia de \"baja tasa de falsos positivos\", la métrica más adecuada es la precisión de la clase positiva (y, complementariamente, la FPR/Specificity), no la accuracy ni el F1. Con ese criterio, el mejor desempeño lo da Extra Trees: en CV lidera en Precision ($0.6946$) y en holdout alcanza $0.789$ con apenas 4 FP (FPR $\\approx 0.12\\%$), además de ser muy rápido ($TT=0.174s$), cumpliendo la necesidad de decisiones ágiles. Modelos como CatBoost/LightGBM exhiben mayor AUC pero menor precisión, y el árbol simple (dt) es veloz pero con Precision muy baja ($0.20$). Por tanto, Extra Trees es la elección recomendada para minimizar FP. Lo malo es su recall bajo ($\\approx 0.07$), pero esto podría mitigarse si se acepta subir un poco los FP ajustando el umbral o usando pesos de clase. Sin embargo, tampoco es tan terrible pues lo importante es tener certeza en que se va a invertir en jugadores buenos (buena Precision), pero no tanto en identificar a todos los jugadores buenos (buena Recall)."
      ]
    },
    {
      "cell_type": "markdown",
      "metadata": {
        "id": "K8DSS3u1xMpB"
      },
      "source": [
        "### 2.2 Reducción de dimensionalidad [14 puntos]"
      ]
    },
    {
      "cell_type": "markdown",
      "metadata": {
        "id": "RLu0543p876P"
      },
      "source": [
        "<center>\n",
        "<img src='https://i.kym-cdn.com/photos/images/original/002/258/560/668.gif' width=400 />"
      ]
    },
    {
      "cell_type": "markdown",
      "metadata": {
        "id": "QT-bxJ0txwNF"
      },
      "source": [
        "A pesar de los resultados obtenidos previamente, el manager de Jere ha solicitado el entrenamiento de un modelo de XGBoost utilizando los datos disponibles. Además, se debe proceder a realizar una reducción de dimensionalidad basada en la importancia de las características.\n",
        "\n",
        "Para llevar a cabo esta tarea:\n",
        "\n",
        "1. Inicie entrenando un modelo XGBoost con todas las características disponibles. [2 puntos]\n",
        "\n",
        "2. Una vez el modelo esté entrenado, evalúe y clasifique las características según su importancia de forma descendente. [2 puntos]\n",
        "\n",
        "3. Utilice esta clasificación para ejecutar una búsqueda recursiva de eliminación de características, eliminando progresivamente las menos importantes y evaluando el impacto en el desempeño del modelo hasta identificar las N características más críticas. [2 puntos]\n",
        "\n",
        "4. Con este conjunto reducido de características, entrene un nuevo modelo y evalúe su rendimiento. [2 puntos]\n",
        "\n",
        "5. Posteriormente, responda a las siguientes preguntas para una comprensión más profunda de los cambios y beneficios:\n",
        "\n",
        "  - ¿El rendimiento del modelo con las características seleccionadas es similar al del modelo original? ¿Cómo se comparan en términos de precisión y robustez? [2 puntos]\n",
        "  - ¿Cuáles son los beneficios potenciales de eliminar variables del modelo? Considere factores como la simplificación del modelo, reducción del tiempo de entrenamiento, y mejora en la capacidad de generalización. [2 puntos]\n",
        "  - Comente si el modelo con menor dimensionalidad es más sencillo de explicar. Explique brevemente por qué la eliminación de ciertas características puede facilitar la comprensión y la explicación del comportamiento del modelo. [2 puntos]\n",
        "\n",
        "Notar que con esta metodologia buscamos encontrar un punto entermedio entre número de festures y desempeño. por esto, si observa que al aumentar festires el aumento es despreciable, puede no considerar agregar más features a su modelo."
      ]
    },
    {
      "cell_type": "markdown",
      "metadata": {
        "id": "NHfmK63TuDOS"
      },
      "source": [
        "**Respuesta**"
      ]
    },
    {
      "cell_type": "code",
      "execution_count": 45,
      "metadata": {
        "id": "HQwUd_nsuDOe"
      },
      "outputs": [
        {
          "data": {
            "text/html": [],
            "text/plain": [
              "<IPython.core.display.HTML object>"
            ]
          },
          "metadata": {},
          "output_type": "display_data"
        },
        {
          "data": {
            "text/html": [
              "<style type=\"text/css\">\n",
              "#T_c8b3b_row5_col0, #T_c8b3b_row5_col1, #T_c8b3b_row5_col2, #T_c8b3b_row5_col3, #T_c8b3b_row5_col4, #T_c8b3b_row5_col5, #T_c8b3b_row5_col6 {\n",
              "  background: yellow;\n",
              "}\n",
              "</style>\n",
              "<table id=\"T_c8b3b\">\n",
              "  <thead>\n",
              "    <tr>\n",
              "      <th class=\"blank level0\" >&nbsp;</th>\n",
              "      <th id=\"T_c8b3b_level0_col0\" class=\"col_heading level0 col0\" >Accuracy</th>\n",
              "      <th id=\"T_c8b3b_level0_col1\" class=\"col_heading level0 col1\" >AUC</th>\n",
              "      <th id=\"T_c8b3b_level0_col2\" class=\"col_heading level0 col2\" >Recall</th>\n",
              "      <th id=\"T_c8b3b_level0_col3\" class=\"col_heading level0 col3\" >Prec.</th>\n",
              "      <th id=\"T_c8b3b_level0_col4\" class=\"col_heading level0 col4\" >F1</th>\n",
              "      <th id=\"T_c8b3b_level0_col5\" class=\"col_heading level0 col5\" >Kappa</th>\n",
              "      <th id=\"T_c8b3b_level0_col6\" class=\"col_heading level0 col6\" >MCC</th>\n",
              "    </tr>\n",
              "    <tr>\n",
              "      <th class=\"index_name level0\" >Fold</th>\n",
              "      <th class=\"blank col0\" >&nbsp;</th>\n",
              "      <th class=\"blank col1\" >&nbsp;</th>\n",
              "      <th class=\"blank col2\" >&nbsp;</th>\n",
              "      <th class=\"blank col3\" >&nbsp;</th>\n",
              "      <th class=\"blank col4\" >&nbsp;</th>\n",
              "      <th class=\"blank col5\" >&nbsp;</th>\n",
              "      <th class=\"blank col6\" >&nbsp;</th>\n",
              "    </tr>\n",
              "  </thead>\n",
              "  <tbody>\n",
              "    <tr>\n",
              "      <th id=\"T_c8b3b_level0_row0\" class=\"row_heading level0 row0\" >0</th>\n",
              "      <td id=\"T_c8b3b_row0_col0\" class=\"data row0 col0\" >0.9506</td>\n",
              "      <td id=\"T_c8b3b_row0_col1\" class=\"data row0 col1\" >0.9562</td>\n",
              "      <td id=\"T_c8b3b_row0_col2\" class=\"data row0 col2\" >0.4070</td>\n",
              "      <td id=\"T_c8b3b_row0_col3\" class=\"data row0 col3\" >0.6542</td>\n",
              "      <td id=\"T_c8b3b_row0_col4\" class=\"data row0 col4\" >0.5018</td>\n",
              "      <td id=\"T_c8b3b_row0_col5\" class=\"data row0 col5\" >0.4773</td>\n",
              "      <td id=\"T_c8b3b_row0_col6\" class=\"data row0 col6\" >0.4922</td>\n",
              "    </tr>\n",
              "    <tr>\n",
              "      <th id=\"T_c8b3b_level0_row1\" class=\"row_heading level0 row1\" >1</th>\n",
              "      <td id=\"T_c8b3b_row1_col0\" class=\"data row1 col0\" >0.9502</td>\n",
              "      <td id=\"T_c8b3b_row1_col1\" class=\"data row1 col1\" >0.9566</td>\n",
              "      <td id=\"T_c8b3b_row1_col2\" class=\"data row1 col2\" >0.4419</td>\n",
              "      <td id=\"T_c8b3b_row1_col3\" class=\"data row1 col3\" >0.6333</td>\n",
              "      <td id=\"T_c8b3b_row1_col4\" class=\"data row1 col4\" >0.5205</td>\n",
              "      <td id=\"T_c8b3b_row1_col5\" class=\"data row1 col5\" >0.4952</td>\n",
              "      <td id=\"T_c8b3b_row1_col6\" class=\"data row1 col6\" >0.5041</td>\n",
              "    </tr>\n",
              "    <tr>\n",
              "      <th id=\"T_c8b3b_level0_row2\" class=\"row_heading level0 row2\" >2</th>\n",
              "      <td id=\"T_c8b3b_row2_col0\" class=\"data row2 col0\" >0.9506</td>\n",
              "      <td id=\"T_c8b3b_row2_col1\" class=\"data row2 col1\" >0.9534</td>\n",
              "      <td id=\"T_c8b3b_row2_col2\" class=\"data row2 col2\" >0.4360</td>\n",
              "      <td id=\"T_c8b3b_row2_col3\" class=\"data row2 col3\" >0.6410</td>\n",
              "      <td id=\"T_c8b3b_row2_col4\" class=\"data row2 col4\" >0.5190</td>\n",
              "      <td id=\"T_c8b3b_row2_col5\" class=\"data row2 col5\" >0.4940</td>\n",
              "      <td id=\"T_c8b3b_row2_col6\" class=\"data row2 col6\" >0.5042</td>\n",
              "    </tr>\n",
              "    <tr>\n",
              "      <th id=\"T_c8b3b_level0_row3\" class=\"row_heading level0 row3\" >3</th>\n",
              "      <td id=\"T_c8b3b_row3_col0\" class=\"data row3 col0\" >0.9492</td>\n",
              "      <td id=\"T_c8b3b_row3_col1\" class=\"data row3 col1\" >0.9552</td>\n",
              "      <td id=\"T_c8b3b_row3_col2\" class=\"data row3 col2\" >0.4593</td>\n",
              "      <td id=\"T_c8b3b_row3_col3\" class=\"data row3 col3\" >0.6124</td>\n",
              "      <td id=\"T_c8b3b_row3_col4\" class=\"data row3 col4\" >0.5249</td>\n",
              "      <td id=\"T_c8b3b_row3_col5\" class=\"data row3 col5\" >0.4987</td>\n",
              "      <td id=\"T_c8b3b_row3_col6\" class=\"data row3 col6\" >0.5044</td>\n",
              "    </tr>\n",
              "    <tr>\n",
              "      <th id=\"T_c8b3b_level0_row4\" class=\"row_heading level0 row4\" >4</th>\n",
              "      <td id=\"T_c8b3b_row4_col0\" class=\"data row4 col0\" >0.9485</td>\n",
              "      <td id=\"T_c8b3b_row4_col1\" class=\"data row4 col1\" >0.9547</td>\n",
              "      <td id=\"T_c8b3b_row4_col2\" class=\"data row4 col2\" >0.4128</td>\n",
              "      <td id=\"T_c8b3b_row4_col3\" class=\"data row4 col3\" >0.6174</td>\n",
              "      <td id=\"T_c8b3b_row4_col4\" class=\"data row4 col4\" >0.4948</td>\n",
              "      <td id=\"T_c8b3b_row4_col5\" class=\"data row4 col5\" >0.4688</td>\n",
              "      <td id=\"T_c8b3b_row4_col6\" class=\"data row4 col6\" >0.4793</td>\n",
              "    </tr>\n",
              "    <tr>\n",
              "      <th id=\"T_c8b3b_level0_row5\" class=\"row_heading level0 row5\" >Mean</th>\n",
              "      <td id=\"T_c8b3b_row5_col0\" class=\"data row5 col0\" >0.9498</td>\n",
              "      <td id=\"T_c8b3b_row5_col1\" class=\"data row5 col1\" >0.9552</td>\n",
              "      <td id=\"T_c8b3b_row5_col2\" class=\"data row5 col2\" >0.4314</td>\n",
              "      <td id=\"T_c8b3b_row5_col3\" class=\"data row5 col3\" >0.6317</td>\n",
              "      <td id=\"T_c8b3b_row5_col4\" class=\"data row5 col4\" >0.5122</td>\n",
              "      <td id=\"T_c8b3b_row5_col5\" class=\"data row5 col5\" >0.4868</td>\n",
              "      <td id=\"T_c8b3b_row5_col6\" class=\"data row5 col6\" >0.4969</td>\n",
              "    </tr>\n",
              "    <tr>\n",
              "      <th id=\"T_c8b3b_level0_row6\" class=\"row_heading level0 row6\" >Std</th>\n",
              "      <td id=\"T_c8b3b_row6_col0\" class=\"data row6 col0\" >0.0009</td>\n",
              "      <td id=\"T_c8b3b_row6_col1\" class=\"data row6 col1\" >0.0012</td>\n",
              "      <td id=\"T_c8b3b_row6_col2\" class=\"data row6 col2\" >0.0192</td>\n",
              "      <td id=\"T_c8b3b_row6_col3\" class=\"data row6 col3\" >0.0153</td>\n",
              "      <td id=\"T_c8b3b_row6_col4\" class=\"data row6 col4\" >0.0117</td>\n",
              "      <td id=\"T_c8b3b_row6_col5\" class=\"data row6 col5\" >0.0117</td>\n",
              "      <td id=\"T_c8b3b_row6_col6\" class=\"data row6 col6\" >0.0099</td>\n",
              "    </tr>\n",
              "  </tbody>\n",
              "</table>\n"
            ],
            "text/plain": [
              "<pandas.io.formats.style.Styler at 0x2542b884ad0>"
            ]
          },
          "metadata": {},
          "output_type": "display_data"
        },
        {
          "data": {
            "text/html": [],
            "text/plain": [
              "<IPython.core.display.HTML object>"
            ]
          },
          "metadata": {},
          "output_type": "display_data"
        },
        {
          "data": {
            "text/html": [
              "<style type=\"text/css\">\n",
              "</style>\n",
              "<table id=\"T_8819a\">\n",
              "  <thead>\n",
              "    <tr>\n",
              "      <th class=\"blank level0\" >&nbsp;</th>\n",
              "      <th id=\"T_8819a_level0_col0\" class=\"col_heading level0 col0\" >Model</th>\n",
              "      <th id=\"T_8819a_level0_col1\" class=\"col_heading level0 col1\" >Accuracy</th>\n",
              "      <th id=\"T_8819a_level0_col2\" class=\"col_heading level0 col2\" >AUC</th>\n",
              "      <th id=\"T_8819a_level0_col3\" class=\"col_heading level0 col3\" >Recall</th>\n",
              "      <th id=\"T_8819a_level0_col4\" class=\"col_heading level0 col4\" >Prec.</th>\n",
              "      <th id=\"T_8819a_level0_col5\" class=\"col_heading level0 col5\" >F1</th>\n",
              "      <th id=\"T_8819a_level0_col6\" class=\"col_heading level0 col6\" >Kappa</th>\n",
              "      <th id=\"T_8819a_level0_col7\" class=\"col_heading level0 col7\" >MCC</th>\n",
              "    </tr>\n",
              "  </thead>\n",
              "  <tbody>\n",
              "    <tr>\n",
              "      <th id=\"T_8819a_level0_row0\" class=\"row_heading level0 row0\" >0</th>\n",
              "      <td id=\"T_8819a_row0_col0\" class=\"data row0 col0\" >Extreme Gradient Boosting</td>\n",
              "      <td id=\"T_8819a_row0_col1\" class=\"data row0 col1\" >0.9500</td>\n",
              "      <td id=\"T_8819a_row0_col2\" class=\"data row0 col2\" >0.9632</td>\n",
              "      <td id=\"T_8819a_row0_col3\" class=\"data row0 col3\" >0.5163</td>\n",
              "      <td id=\"T_8819a_row0_col4\" class=\"data row0 col4\" >0.6066</td>\n",
              "      <td id=\"T_8819a_row0_col5\" class=\"data row0 col5\" >0.5578</td>\n",
              "      <td id=\"T_8819a_row0_col6\" class=\"data row0 col6\" >0.5315</td>\n",
              "      <td id=\"T_8819a_row0_col7\" class=\"data row0 col7\" >0.5334</td>\n",
              "    </tr>\n",
              "  </tbody>\n",
              "</table>\n"
            ],
            "text/plain": [
              "<pandas.io.formats.style.Styler at 0x25412ea11d0>"
            ]
          },
          "metadata": {},
          "output_type": "display_data"
        },
        {
          "name": "stdout",
          "output_type": "stream",
          "text": [
            "\n",
            "=== XGBoost (PyCaret) – Holdout (thr=0.5) ===\n",
            "              precision    recall  f1-score   support\n",
            "\n",
            "           0      0.969     0.978     0.973      3303\n",
            "           1      0.607     0.516     0.558       215\n",
            "\n",
            "    accuracy                          0.950      3518\n",
            "   macro avg      0.788     0.747     0.766      3518\n",
            "weighted avg      0.947     0.950     0.948      3518\n",
            "\n",
            "[[3231   72]\n",
            " [ 104  111]]\n",
            "\n",
            "Top 15 features por importancia (modelo completo):\n",
            "Reactions          0.200972\n",
            "Nationality        0.132717\n",
            "Club_Position      0.031204\n",
            "Composure          0.029297\n",
            "Interceptions      0.027970\n",
            "Standing_Tackle    0.024888\n",
            "Dribbling          0.024182\n",
            "Ball_Control       0.023227\n",
            "Age                0.021063\n",
            "Short_Pass         0.019276\n",
            "Heading            0.018951\n",
            "Height             0.018805\n",
            "Marking            0.018476\n",
            "Sliding_Tackle     0.018414\n",
            "Weight             0.017040\n",
            "dtype: float32\n",
            "\n",
            "=== Rendimiento en VALIDACIÓN por #features ===\n",
            "    k_features  accuracy  precision    recall        f1\n",
            "0            1  0.718905   0.145475  0.738372  0.243062\n",
            "1            2  0.880952   0.325482  0.883721  0.475743\n",
            "2            3  0.911869   0.390805  0.790698  0.523077\n",
            "3            4  0.926439   0.441860  0.773256  0.562368\n",
            "4            5  0.929993   0.454545  0.726744  0.559284\n",
            "5            6  0.935323   0.480916  0.732558  0.580645\n",
            "6            7  0.937811   0.494071  0.726744  0.588235\n",
            "7            8  0.935679   0.481928  0.697674  0.570071\n",
            "8            9  0.942431   0.521930  0.691860  0.595000\n",
            "9           10  0.943852   0.530435  0.709302  0.606965\n",
            "10          11  0.947761   0.558685  0.691860  0.618182\n",
            "11          12  0.948827   0.564815  0.709302  0.628866\n",
            "12          13  0.942786   0.525346  0.662791  0.586118\n",
            "13          14  0.947406   0.556075  0.691860  0.616580\n",
            "14          15  0.949893   0.572093  0.715116  0.635659\n",
            "15          16  0.945984   0.545872  0.691860  0.610256\n",
            "16          17  0.949538   0.568807  0.720930  0.635897\n",
            "17          18  0.946340   0.547511  0.703488  0.615776\n",
            "18          19  0.947406   0.553097  0.726744  0.628141\n",
            "19          20  0.947761   0.556561  0.715116  0.625954\n",
            "20          21  0.944918   0.541063  0.651163  0.591029\n",
            "21          22  0.944918   0.540284  0.662791  0.595300\n",
            "22          23  0.947050   0.553488  0.691860  0.614987\n",
            "23          24  0.946695   0.555000  0.645349  0.596774\n",
            "24          25  0.944208   0.535885  0.651163  0.587927\n",
            "25          26  0.946340   0.552764  0.639535  0.592992\n",
            "26          27  0.944918   0.541063  0.651163  0.591029\n",
            "27          28  0.947761   0.558140  0.697674  0.620155\n",
            "28          29  0.949183   0.570048  0.686047  0.622691\n",
            "29          30  0.946340   0.550725  0.662791  0.601583\n",
            "30          31  0.944918   0.539535  0.674419  0.599483\n",
            "31          32  0.945274   0.543689  0.651163  0.592593\n",
            "32          33  0.947050   0.555024  0.674419  0.608924\n",
            "33          34  0.945274   0.542453  0.668605  0.598958\n",
            "34          35  0.947406   0.560606  0.645349  0.600000\n",
            "35          36  0.945274   0.544118  0.645349  0.590426\n",
            "36          37  0.947050   0.556650  0.656977  0.602667\n",
            "37          38  0.947050   0.556098  0.662791  0.604775\n",
            "38          39  0.944563   0.539604  0.633721  0.582888\n",
            "39          40  0.944208   0.536946  0.633721  0.581333\n",
            "40          41  0.944208   0.537688  0.622093  0.576819\n",
            "41          42  0.945984   0.549505  0.645349  0.593583\n",
            "42          43  0.946340   0.551724  0.651163  0.597333\n",
            "43          44  0.948827   0.570000  0.662791  0.612903\n",
            "44          45  0.942075   0.522613  0.604651  0.560647\n",
            "\n",
            "K* elegido por precision en validación: 15\n",
            "\n",
            "=== TEST (holdout de PyCaret) ===\n",
            "\n",
            "== XGB con TODAS las features ==\n",
            "Acc: 0.9488 Prec: 0.5614 Rec: 0.7442 F1: 0.64\n",
            "\n",
            "== XGB con TOP-15 features ==\n",
            "Acc: 0.9463 Prec: 0.5417 Rec: 0.786 F1: 0.6414\n",
            "\n",
            "Matriz de confusión — modelo reducido:\n",
            "[[3160  143]\n",
            " [  46  169]]\n"
          ]
        }
      ],
      "source": [
        "# Importamos las librerías necesarias\n",
        "from xgboost import XGBClassifier\n",
        "from sklearn.metrics import accuracy_score, precision_score, recall_score, f1_score\n",
        "\n",
        "# ------------------- Pregunta 1 ------------------\n",
        "# Cargamos los datos (todo lo mismo que en las Partes pasadas, no comentaré el código porque es lo mismo)\n",
        "df = pd.read_csv(\"stats_players.csv\")\n",
        "df[\"label\"] = df[\"National_Position\"].notna().astype(int)\n",
        "\n",
        "data = df.drop(columns=[\"National_Position\", \"Name\"], errors=\"ignore\")\n",
        "\n",
        "clf = setup(\n",
        "    data=data,\n",
        "    target=\"label\",\n",
        "    session_id=42,\n",
        "    train_size=0.8,\n",
        "    fold=5, fold_shuffle=True,\n",
        "    verbose=False\n",
        ")\n",
        "\n",
        "# Hacemos el modelo base con todo el preprocesamiento de PyCaret\n",
        "xgb_pc = create_model('xgboost')\n",
        "hold_base = predict_model(xgb_pc)\n",
        "\n",
        "print(\"\\n=== XGBoost (PyCaret) – Holdout (thr=0.5) ===\")\n",
        "print(classification_report(hold_base[\"label\"], hold_base[\"prediction_label\"], digits=3))\n",
        "print(confusion_matrix(hold_base[\"label\"], hold_base[\"prediction_label\"]))\n",
        "\n",
        "# Matrices ya preprocesadas por PyCaret + nombres de columnas\n",
        "Xtr = get_config('X_train_transformed')\n",
        "ytr = get_config('y_train')\n",
        "Xte = get_config('X_test_transformed')\n",
        "yte = get_config('y_test')\n",
        "\n",
        "# El peso de clase para XGBoost\n",
        "neg, pos = np.bincount(ytr)\n",
        "scale_pos_weight = (neg / max(pos, 1)) if pos > 0 else 1.0\n",
        "\n",
        "# Entrenamos un XGBoost con TODAS las columnas transformadas\n",
        "xgb_full = XGBClassifier(\n",
        "    n_estimators=400, learning_rate=0.05, max_depth=6,\n",
        "    subsample=0.8, colsample_bytree=0.8,\n",
        "    tree_method='hist', eval_metric='logloss',\n",
        "    random_state=42, scale_pos_weight=scale_pos_weight\n",
        ").fit(Xtr, ytr)\n",
        "\n",
        "# ------------------- Pregunta 2 ------------------\n",
        "# Ranking de importancias de las features\n",
        "fi = pd.Series(xgb_full.feature_importances_, index=Xtr.columns).sort_values(ascending=False)\n",
        "print(\"\\nTop 15 features por importancia (modelo completo):\")\n",
        "print(fi.head(15))\n",
        "\n",
        "# ------------------- Pregunta 3 ------------------\n",
        "# Split interno de los datos de entrenamiento para elegir K (evita fuga):\n",
        "Xtr_in, Xval, ytr_in, yval = train_test_split(Xtr, ytr, test_size=0.2, stratify=ytr, random_state=42)\n",
        "\n",
        "# Reentrenamos en el sub-train para recalcular importancias\n",
        "xgb_full_in = XGBClassifier(\n",
        "    n_estimators=400, learning_rate=0.05, max_depth=6,\n",
        "    subsample=0.8, colsample_bytree=0.8,\n",
        "    tree_method='hist', eval_metric='logloss',\n",
        "    random_state=42, scale_pos_weight=scale_pos_weight\n",
        ").fit(Xtr_in, ytr_in)\n",
        "\n",
        "fi_in = pd.Series(xgb_full_in.feature_importances_, index=Xtr.columns).sort_values(ascending=False)\n",
        "\n",
        "# Probamos con todos los K posibles\n",
        "n_feats = Xtr.shape[1]\n",
        "grid_k = range(1, n_feats + 1)\n",
        "\n",
        "# Eliminamos progresivamente las menos importantes y evaluando el impacto en el desempeño del modelo hasta obtener las K variables más relevantes\n",
        "results = []\n",
        "for k in grid_k:\n",
        "    topk = fi_in.index[:k]\n",
        "    xgb_k = XGBClassifier(\n",
        "        n_estimators=400, learning_rate=0.05, max_depth=6,\n",
        "        subsample=0.8, colsample_bytree=0.8,\n",
        "        tree_method='hist', eval_metric='logloss',\n",
        "        random_state=42, scale_pos_weight=scale_pos_weight\n",
        "    ).fit(Xtr_in[topk], ytr_in)\n",
        "\n",
        "    # Métricas en VALIDACIÓN (no en test)\n",
        "    yhat_val = xgb_k.predict(Xval[topk])\n",
        "    results.append({\n",
        "        \"k_features\": k,\n",
        "        \"accuracy\":  accuracy_score(yval, yhat_val),\n",
        "        \"precision\": precision_score(yval, yhat_val, zero_division=0),\n",
        "        \"recall\":    recall_score(yval, yhat_val, zero_division=0),\n",
        "        \"f1\":        f1_score(yval, yhat_val, zero_division=0),\n",
        "    })\n",
        "\n",
        "res_val = pd.DataFrame(results).sort_values(\"k_features\")\n",
        "print(\"\\n=== Rendimiento en VALIDACIÓN por #features ===\")\n",
        "print(res_val)\n",
        "\n",
        "# Elegimos el K con mejor precision\n",
        "best_k = int(res_val.iloc[res_val['precision'].idxmax()]['k_features'])\n",
        "print(f\"\\nK* elegido por precision en validación: {best_k}\")\n",
        "\n",
        "topk_feats = fi_in.index[:best_k]\n",
        "\n",
        "# ------------------- Pregunta 4 ------------------\n",
        "# a) Baseline con TODAS las features\n",
        "xgb_all = XGBClassifier(\n",
        "    n_estimators=400, learning_rate=0.05, max_depth=6,\n",
        "    subsample=0.8, colsample_bytree=0.8,\n",
        "    tree_method='hist', eval_metric='logloss',\n",
        "    random_state=42, scale_pos_weight=scale_pos_weight\n",
        ").fit(Xtr, ytr)\n",
        "yhat_all = xgb_all.predict(Xte)\n",
        "\n",
        "# b) Modelo reducido con TOP-K features \n",
        "xgb_red = XGBClassifier(\n",
        "    n_estimators=400, learning_rate=0.05, max_depth=6,\n",
        "    subsample=0.8, colsample_bytree=0.8,\n",
        "    tree_method='hist', eval_metric='logloss',\n",
        "    random_state=42, scale_pos_weight=scale_pos_weight\n",
        ").fit(Xtr[topk_feats], ytr)\n",
        "yhat_red = xgb_red.predict(Xte[topk_feats])\n",
        "\n",
        "# Función para resumir resultados\n",
        "def summarize(y_true, y_pred, tag):\n",
        "    print(f\"\\n== {tag} ==\")\n",
        "    print(\"Acc:\", round(accuracy_score(y_true, y_pred), 4),\n",
        "          \"Prec:\", round(precision_score(y_true, y_pred, zero_division=0), 4),\n",
        "          \"Rec:\", round(recall_score(y_true, y_pred, zero_division=0), 4),\n",
        "          \"F1:\", round(f1_score(y_true, y_pred, zero_division=0), 4))\n",
        "\n",
        "# Mostramos resultados en pantalla para comparar ambos modelos\n",
        "print(\"\\n=== TEST (holdout de PyCaret) ===\")\n",
        "summarize(yte, yhat_all, \"XGB con TODAS las features\")\n",
        "summarize(yte, yhat_red, f\"XGB con TOP-{best_k} features\")\n",
        "\n",
        "print(\"\\nMatriz de confusión — modelo reducido:\")\n",
        "print(confusion_matrix(yte, yhat_red))\n"
      ]
    },
    {
      "cell_type": "markdown",
      "metadata": {},
      "source": [
        "**Respuesta:**\n",
        "\n",
        "**Pregunta 5:**\n",
        " \n",
        "Con el conjunto reducido de TOP-15 variables, el rendimiento es muy similar al del modelo completo. En el conjunto de prueba pasamos de\n",
        "$\\mathrm{Acc}_{\\text{full}} = 0.9488$ a $\\mathrm{Acc}_{\\text{red}} = 0.9463$ ($\\Delta = -0.0025$), de $\\mathrm{Prec}_{\\text{full}} = 0.5614$ a $\\mathrm{Prec}_{\\text{red}} = 0.5417$ ($\\Delta = -0.0197$), mientras que el recall sube de $0.7442$ a $0.7860$ ($\\Delta = +0.0418$) y el $\\mathrm{F1}$ queda prácticamente igual ($0.6400 \\to 0.6414$, $\\Delta = +0.0014$). \n",
        "\n",
        "Es decir, el modelo reducido gana sensibilidad (mayor recall) a costa de una leve caída en precisión, manteniendo la robustez global. Además, la eliminación de variables aporta beneficios claros: Ayuda a la simplificación del modelo y a tener un menor costo computacional al pasar de $39$ a $15$ atributos (entrenamiento e inferencia más rápidos). También reduce el riesgo de sobreajuste al reducir ruido/colinealidad y tiene una potencial mejora de generalización. Finalmente, ayuda a tener una mayor interpretabilidad, ya que la decisión se explica con un subconjunto compacto y relevante de rasgos (por ejemplo, Reactions, Nationality, Composure, Interceptions).\n"
      ]
    },
    {
      "cell_type": "markdown",
      "metadata": {
        "id": "PTG5cH9r3M9g"
      },
      "source": [
        "### 2.3 Calibración Probabilistica [6 puntos]"
      ]
    },
    {
      "cell_type": "markdown",
      "metadata": {
        "id": "CDL0VqjR7yvb"
      },
      "source": [
        "<center>\n",
        "<img src='https://media2.giphy.com/media/l2Je4Ku0Cx292KWv6/200w.gif?cid=6c09b952y0sihtq9tb6sz8j2023x3zxxp3qx1ocgonkpkblj&ep=v1_gifs_search&rid=200w.gif&ct=g' width=400 />"
      ]
    },
    {
      "cell_type": "markdown",
      "metadata": {
        "id": "qmOKxhAw3sic"
      },
      "source": [
        "Para lograr modelos más modulares, se recomienda realizar una calibración del modelo entrenado anteriormente, con el objetivo de obtener salidas que reflejen mayor modularidad.\n",
        "\n",
        "1. Se solicita que utilice un método de calibración que asegure que las probabilidades generadas incrementen de manera monótona. Una métrica ampliamente utilizada para evaluar la precisión de la calibración de un modelo es el Brier Score. Calcule el Brier Score para el modelo tanto antes como después de la calibración. Esto le permitirá realizar una comparación cuantitativa y determinar si la calibración ha mejorado el rendimiento del modelo. Para más información sobre el Brier Score, puede consultar el siguiente enlace: [Scikit-Learn - Brier Score Loss](https://scikit-learn.org/stable/modules/generated/sklearn.metrics.brier_score_loss.html). [3 puntos]\n",
        "\n",
        "2. Tras la calibración, examine y comente los resultados obtenidos. A su análisis añada una comparación visual de las ideales versus las salidas del modelo original (sin calibrar) y del modelo calibrado. [3 puntos]"
      ]
    },
    {
      "cell_type": "markdown",
      "metadata": {
        "id": "QIiYz_qLuD19"
      },
      "source": [
        "**Respuesta**"
      ]
    },
    {
      "cell_type": "code",
      "execution_count": 46,
      "metadata": {
        "id": "l0bfSuiFuD2I"
      },
      "outputs": [
        {
          "data": {
            "text/html": [
              "<style type=\"text/css\">\n",
              "</style>\n",
              "<table id=\"T_b30c4\">\n",
              "  <thead>\n",
              "    <tr>\n",
              "      <th class=\"blank level0\" >&nbsp;</th>\n",
              "      <th id=\"T_b30c4_level0_col0\" class=\"col_heading level0 col0\" >Model</th>\n",
              "      <th id=\"T_b30c4_level0_col1\" class=\"col_heading level0 col1\" >Accuracy</th>\n",
              "      <th id=\"T_b30c4_level0_col2\" class=\"col_heading level0 col2\" >AUC</th>\n",
              "      <th id=\"T_b30c4_level0_col3\" class=\"col_heading level0 col3\" >Recall</th>\n",
              "      <th id=\"T_b30c4_level0_col4\" class=\"col_heading level0 col4\" >Prec.</th>\n",
              "      <th id=\"T_b30c4_level0_col5\" class=\"col_heading level0 col5\" >F1</th>\n",
              "      <th id=\"T_b30c4_level0_col6\" class=\"col_heading level0 col6\" >Kappa</th>\n",
              "      <th id=\"T_b30c4_level0_col7\" class=\"col_heading level0 col7\" >MCC</th>\n",
              "    </tr>\n",
              "  </thead>\n",
              "  <tbody>\n",
              "    <tr>\n",
              "      <th id=\"T_b30c4_level0_row0\" class=\"row_heading level0 row0\" >0</th>\n",
              "      <td id=\"T_b30c4_row0_col0\" class=\"data row0 col0\" >Extra Trees Classifier</td>\n",
              "      <td id=\"T_b30c4_row0_col1\" class=\"data row0 col1\" >0.9468</td>\n",
              "      <td id=\"T_b30c4_row0_col2\" class=\"data row0 col2\" >0.9433</td>\n",
              "      <td id=\"T_b30c4_row0_col3\" class=\"data row0 col3\" >0.1814</td>\n",
              "      <td id=\"T_b30c4_row0_col4\" class=\"data row0 col4\" >0.7800</td>\n",
              "      <td id=\"T_b30c4_row0_col5\" class=\"data row0 col5\" >0.2943</td>\n",
              "      <td id=\"T_b30c4_row0_col6\" class=\"data row0 col6\" >0.2777</td>\n",
              "      <td id=\"T_b30c4_row0_col7\" class=\"data row0 col7\" >0.3604</td>\n",
              "    </tr>\n",
              "  </tbody>\n",
              "</table>\n"
            ],
            "text/plain": [
              "<pandas.io.formats.style.Styler at 0x253818c4690>"
            ]
          },
          "metadata": {},
          "output_type": "display_data"
        },
        {
          "data": {
            "text/html": [],
            "text/plain": [
              "<IPython.core.display.HTML object>"
            ]
          },
          "metadata": {},
          "output_type": "display_data"
        },
        {
          "data": {
            "text/html": [
              "<style type=\"text/css\">\n",
              "#T_bcc7c_row5_col0, #T_bcc7c_row5_col1, #T_bcc7c_row5_col2, #T_bcc7c_row5_col3, #T_bcc7c_row5_col4, #T_bcc7c_row5_col5, #T_bcc7c_row5_col6 {\n",
              "  background: yellow;\n",
              "}\n",
              "</style>\n",
              "<table id=\"T_bcc7c\">\n",
              "  <thead>\n",
              "    <tr>\n",
              "      <th class=\"blank level0\" >&nbsp;</th>\n",
              "      <th id=\"T_bcc7c_level0_col0\" class=\"col_heading level0 col0\" >Accuracy</th>\n",
              "      <th id=\"T_bcc7c_level0_col1\" class=\"col_heading level0 col1\" >AUC</th>\n",
              "      <th id=\"T_bcc7c_level0_col2\" class=\"col_heading level0 col2\" >Recall</th>\n",
              "      <th id=\"T_bcc7c_level0_col3\" class=\"col_heading level0 col3\" >Prec.</th>\n",
              "      <th id=\"T_bcc7c_level0_col4\" class=\"col_heading level0 col4\" >F1</th>\n",
              "      <th id=\"T_bcc7c_level0_col5\" class=\"col_heading level0 col5\" >Kappa</th>\n",
              "      <th id=\"T_bcc7c_level0_col6\" class=\"col_heading level0 col6\" >MCC</th>\n",
              "    </tr>\n",
              "    <tr>\n",
              "      <th class=\"index_name level0\" >Fold</th>\n",
              "      <th class=\"blank col0\" >&nbsp;</th>\n",
              "      <th class=\"blank col1\" >&nbsp;</th>\n",
              "      <th class=\"blank col2\" >&nbsp;</th>\n",
              "      <th class=\"blank col3\" >&nbsp;</th>\n",
              "      <th class=\"blank col4\" >&nbsp;</th>\n",
              "      <th class=\"blank col5\" >&nbsp;</th>\n",
              "      <th class=\"blank col6\" >&nbsp;</th>\n",
              "    </tr>\n",
              "  </thead>\n",
              "  <tbody>\n",
              "    <tr>\n",
              "      <th id=\"T_bcc7c_level0_row0\" class=\"row_heading level0 row0\" >0</th>\n",
              "      <td id=\"T_bcc7c_row0_col0\" class=\"data row0 col0\" >0.9506</td>\n",
              "      <td id=\"T_bcc7c_row0_col1\" class=\"data row0 col1\" >0.9432</td>\n",
              "      <td id=\"T_bcc7c_row0_col2\" class=\"data row0 col2\" >0.3314</td>\n",
              "      <td id=\"T_bcc7c_row0_col3\" class=\"data row0 col3\" >0.7037</td>\n",
              "      <td id=\"T_bcc7c_row0_col4\" class=\"data row0 col4\" >0.4506</td>\n",
              "      <td id=\"T_bcc7c_row0_col5\" class=\"data row0 col5\" >0.4282</td>\n",
              "      <td id=\"T_bcc7c_row0_col6\" class=\"data row0 col6\" >0.4618</td>\n",
              "    </tr>\n",
              "    <tr>\n",
              "      <th id=\"T_bcc7c_level0_row1\" class=\"row_heading level0 row1\" >1</th>\n",
              "      <td id=\"T_bcc7c_row1_col0\" class=\"data row1 col0\" >0.9471</td>\n",
              "      <td id=\"T_bcc7c_row1_col1\" class=\"data row1 col1\" >0.9413</td>\n",
              "      <td id=\"T_bcc7c_row1_col2\" class=\"data row1 col2\" >0.2616</td>\n",
              "      <td id=\"T_bcc7c_row1_col3\" class=\"data row1 col3\" >0.6716</td>\n",
              "      <td id=\"T_bcc7c_row1_col4\" class=\"data row1 col4\" >0.3766</td>\n",
              "      <td id=\"T_bcc7c_row1_col5\" class=\"data row1 col5\" >0.3544</td>\n",
              "      <td id=\"T_bcc7c_row1_col6\" class=\"data row1 col6\" >0.3980</td>\n",
              "    </tr>\n",
              "    <tr>\n",
              "      <th id=\"T_bcc7c_level0_row2\" class=\"row_heading level0 row2\" >2</th>\n",
              "      <td id=\"T_bcc7c_row2_col0\" class=\"data row2 col0\" >0.9431</td>\n",
              "      <td id=\"T_bcc7c_row2_col1\" class=\"data row2 col1\" >0.9511</td>\n",
              "      <td id=\"T_bcc7c_row2_col2\" class=\"data row2 col2\" >0.3256</td>\n",
              "      <td id=\"T_bcc7c_row2_col3\" class=\"data row2 col3\" >0.5600</td>\n",
              "      <td id=\"T_bcc7c_row2_col4\" class=\"data row2 col4\" >0.4118</td>\n",
              "      <td id=\"T_bcc7c_row2_col5\" class=\"data row2 col5\" >0.3841</td>\n",
              "      <td id=\"T_bcc7c_row2_col6\" class=\"data row2 col6\" >0.3997</td>\n",
              "    </tr>\n",
              "    <tr>\n",
              "      <th id=\"T_bcc7c_level0_row3\" class=\"row_heading level0 row3\" >3</th>\n",
              "      <td id=\"T_bcc7c_row3_col0\" class=\"data row3 col0\" >0.9449</td>\n",
              "      <td id=\"T_bcc7c_row3_col1\" class=\"data row3 col1\" >0.9400</td>\n",
              "      <td id=\"T_bcc7c_row3_col2\" class=\"data row3 col2\" >0.3605</td>\n",
              "      <td id=\"T_bcc7c_row3_col3\" class=\"data row3 col3\" >0.5794</td>\n",
              "      <td id=\"T_bcc7c_row3_col4\" class=\"data row3 col4\" >0.4444</td>\n",
              "      <td id=\"T_bcc7c_row3_col5\" class=\"data row3 col5\" >0.4171</td>\n",
              "      <td id=\"T_bcc7c_row3_col6\" class=\"data row3 col6\" >0.4302</td>\n",
              "    </tr>\n",
              "    <tr>\n",
              "      <th id=\"T_bcc7c_level0_row4\" class=\"row_heading level0 row4\" >4</th>\n",
              "      <td id=\"T_bcc7c_row4_col0\" class=\"data row4 col0\" >0.9471</td>\n",
              "      <td id=\"T_bcc7c_row4_col1\" class=\"data row4 col1\" >0.9505</td>\n",
              "      <td id=\"T_bcc7c_row4_col2\" class=\"data row4 col2\" >0.3314</td>\n",
              "      <td id=\"T_bcc7c_row4_col3\" class=\"data row4 col3\" >0.6264</td>\n",
              "      <td id=\"T_bcc7c_row4_col4\" class=\"data row4 col4\" >0.4335</td>\n",
              "      <td id=\"T_bcc7c_row4_col5\" class=\"data row4 col5\" >0.4084</td>\n",
              "      <td id=\"T_bcc7c_row4_col6\" class=\"data row4 col6\" >0.4314</td>\n",
              "    </tr>\n",
              "    <tr>\n",
              "      <th id=\"T_bcc7c_level0_row5\" class=\"row_heading level0 row5\" >Mean</th>\n",
              "      <td id=\"T_bcc7c_row5_col0\" class=\"data row5 col0\" >0.9466</td>\n",
              "      <td id=\"T_bcc7c_row5_col1\" class=\"data row5 col1\" >0.9452</td>\n",
              "      <td id=\"T_bcc7c_row5_col2\" class=\"data row5 col2\" >0.3221</td>\n",
              "      <td id=\"T_bcc7c_row5_col3\" class=\"data row5 col3\" >0.6282</td>\n",
              "      <td id=\"T_bcc7c_row5_col4\" class=\"data row5 col4\" >0.4234</td>\n",
              "      <td id=\"T_bcc7c_row5_col5\" class=\"data row5 col5\" >0.3985</td>\n",
              "      <td id=\"T_bcc7c_row5_col6\" class=\"data row5 col6\" >0.4242</td>\n",
              "    </tr>\n",
              "    <tr>\n",
              "      <th id=\"T_bcc7c_level0_row6\" class=\"row_heading level0 row6\" >Std</th>\n",
              "      <td id=\"T_bcc7c_row6_col0\" class=\"data row6 col0\" >0.0025</td>\n",
              "      <td id=\"T_bcc7c_row6_col1\" class=\"data row6 col1\" >0.0047</td>\n",
              "      <td id=\"T_bcc7c_row6_col2\" class=\"data row6 col2\" >0.0326</td>\n",
              "      <td id=\"T_bcc7c_row6_col3\" class=\"data row6 col3\" >0.0541</td>\n",
              "      <td id=\"T_bcc7c_row6_col4\" class=\"data row6 col4\" >0.0269</td>\n",
              "      <td id=\"T_bcc7c_row6_col5\" class=\"data row6 col5\" >0.0264</td>\n",
              "      <td id=\"T_bcc7c_row6_col6\" class=\"data row6 col6\" >0.0236</td>\n",
              "    </tr>\n",
              "  </tbody>\n",
              "</table>\n"
            ],
            "text/plain": [
              "<pandas.io.formats.style.Styler at 0x25412069810>"
            ]
          },
          "metadata": {},
          "output_type": "display_data"
        },
        {
          "data": {
            "text/html": [],
            "text/plain": [
              "<IPython.core.display.HTML object>"
            ]
          },
          "metadata": {},
          "output_type": "display_data"
        },
        {
          "data": {
            "text/html": [
              "<style type=\"text/css\">\n",
              "</style>\n",
              "<table id=\"T_1c393\">\n",
              "  <thead>\n",
              "    <tr>\n",
              "      <th class=\"blank level0\" >&nbsp;</th>\n",
              "      <th id=\"T_1c393_level0_col0\" class=\"col_heading level0 col0\" >Model</th>\n",
              "      <th id=\"T_1c393_level0_col1\" class=\"col_heading level0 col1\" >Accuracy</th>\n",
              "      <th id=\"T_1c393_level0_col2\" class=\"col_heading level0 col2\" >AUC</th>\n",
              "      <th id=\"T_1c393_level0_col3\" class=\"col_heading level0 col3\" >Recall</th>\n",
              "      <th id=\"T_1c393_level0_col4\" class=\"col_heading level0 col4\" >Prec.</th>\n",
              "      <th id=\"T_1c393_level0_col5\" class=\"col_heading level0 col5\" >F1</th>\n",
              "      <th id=\"T_1c393_level0_col6\" class=\"col_heading level0 col6\" >Kappa</th>\n",
              "      <th id=\"T_1c393_level0_col7\" class=\"col_heading level0 col7\" >MCC</th>\n",
              "    </tr>\n",
              "  </thead>\n",
              "  <tbody>\n",
              "    <tr>\n",
              "      <th id=\"T_1c393_level0_row0\" class=\"row_heading level0 row0\" >0</th>\n",
              "      <td id=\"T_1c393_row0_col0\" class=\"data row0 col0\" >Extra Trees Classifier</td>\n",
              "      <td id=\"T_1c393_row0_col1\" class=\"data row0 col1\" >0.9497</td>\n",
              "      <td id=\"T_1c393_row0_col2\" class=\"data row0 col2\" >0.9484</td>\n",
              "      <td id=\"T_1c393_row0_col3\" class=\"data row0 col3\" >0.3674</td>\n",
              "      <td id=\"T_1c393_row0_col4\" class=\"data row0 col4\" >0.6583</td>\n",
              "      <td id=\"T_1c393_row0_col5\" class=\"data row0 col5\" >0.4716</td>\n",
              "      <td id=\"T_1c393_row0_col6\" class=\"data row0 col6\" >0.4474</td>\n",
              "      <td id=\"T_1c393_row0_col7\" class=\"data row0 col7\" >0.4685</td>\n",
              "    </tr>\n",
              "  </tbody>\n",
              "</table>\n"
            ],
            "text/plain": [
              "<pandas.io.formats.style.Styler at 0x2542b7ea0d0>"
            ]
          },
          "metadata": {},
          "output_type": "display_data"
        },
        {
          "name": "stdout",
          "output_type": "stream",
          "text": [
            "Brier antes  : 0.8658\n",
            "Brier después: 0.8854\n"
          ]
        },
        {
          "data": {
            "image/png": "[encoded data removed]",
            "text/plain": [
              "<Figure size 800x550 with 1 Axes>"
            ]
          },
          "metadata": {},
          "output_type": "display_data"
        },
        {
          "data": {
            "image/png": "[encoded data removed]",
            "text/plain": [
              "<Figure size 800x550 with 1 Axes>"
            ]
          },
          "metadata": {},
          "output_type": "display_data"
        }
      ],
      "source": [
        "# Importamos las librerías necesarias\n",
        "from sklearn.metrics import brier_score_loss\n",
        "from sklearn.calibration import calibration_curve\n",
        "import matplotlib.pyplot as plt\n",
        "import numpy as np\n",
        "\n",
        "# Usamos el modelo ya entrenado\n",
        "base_model = tuned\n",
        "\n",
        "# Brier y proba en HOLDOUT (antes de calibrar)\n",
        "hold_before = predict_model(base_model)\n",
        "y_true = hold_before[\"label\"].to_numpy()\n",
        "p_before = hold_before[\"prediction_score\"].to_numpy()\n",
        "brier_before = brier_score_loss(y_true, p_before)\n",
        "\n",
        "# Calibramos con método isotónico\n",
        "calibrated = calibrate_model(base_model, method=\"isotonic\")\n",
        "\n",
        "# Brier y proba en HOLDOUT (después de calibrar)\n",
        "hold_after = predict_model(calibrated)\n",
        "p_after = hold_after[\"prediction_score\"].to_numpy()\n",
        "brier_after = brier_score_loss(y_true, p_after)\n",
        "\n",
        "print(f\"Brier antes  : {brier_before:.4f}\")\n",
        "print(f\"Brier después: {brier_after:.4f}\")\n",
        "\n",
        "# Curva de confiabilidad\n",
        "prob_true_b, prob_pred_b = calibration_curve(y_true, p_before, n_bins=10, strategy=\"quantile\")\n",
        "prob_true_a, prob_pred_a = calibration_curve(y_true, p_after,  n_bins=10, strategy=\"quantile\")\n",
        "\n",
        "plt.figure()\n",
        "plt.plot([0,1], [0,1], \"--\", label=\"Perfectamente calibrado\")\n",
        "plt.plot(prob_pred_b, prob_true_b, \"o-\", label=f\"Original (Brier={brier_before:.3f})\")\n",
        "plt.plot(prob_pred_a, prob_true_a, \"o-\", label=f\"Isotonic (Brier={brier_after:.3f})\")\n",
        "plt.xlabel(\"Probabilidad predicha media\")\n",
        "plt.ylabel(\"Fracción de positivos\")\n",
        "plt.title(\"Calibración de probabilidades (holdout)\")\n",
        "plt.legend()\n",
        "plt.show()\n",
        "\n",
        "# Histograma de probabilidades\n",
        "plt.figure()\n",
        "plt.hist(p_before, bins=20, alpha=0.5, density=True, label=\"Original\")\n",
        "plt.hist(p_after,  bins=20, alpha=0.5, density=True, label=\"Calibrado\")\n",
        "plt.xlabel(\"Probabilidad predicha\")\n",
        "plt.ylabel(\"Densidad\")\n",
        "plt.title(\"Distribución de probabilidades (holdout)\")\n",
        "plt.legend()\n",
        "plt.show()\n"
      ]
    },
    {
      "cell_type": "markdown",
      "metadata": {},
      "source": [
        "**Respuesta:**\n",
        "\n",
        "**Pregunta 2:**\n",
        "\n",
        "Tras aplicar calibración isotónica al modelo ExtraTrees, observamos un comportamiento mixto. En términos de clasificación, las métricas en holdout mejoran: el AUC pasa de $0.9433$ a $0.9484$, el recall de la clase positiva sube de $0.1814$ a $0.3674$ y el $F_{1}$ aumenta de $0.2943$ a $0.4716$, con una ligera caída de la precision de $0.7800$ a $0.6583$ y una accuracy que también mejora levemente ($0.9468 \\rightarrow 0.9497$). Sin embargo, desde el punto de vista probabilístico la calibración no ayudó: el Brier score empeora ($0.8658 \\rightarrow 0.8854$, menor es mejor) y el diagrama de confiabilidad muestra una curva por debajo de la diagonal para probabilidades altas, evidenciando overconfidence (las probabilidades predichas son demasiado extremas respecto de la frecuencia empírica). Esto también se aprecia en el histograma, con gran masa cerca de $1.0$ que incluso aumenta tras calibrar. En síntesis, la calibración isotónica reescaló las salidas de modo que mejoró el compromiso recall/precision a umbral $0.5$, pero no mejoró (y de hecho degradó) la calidad de las probabilidades. Para obtener probabilidades mejor calibradas sugerimos calibrar con validación cruzada y probar Platt scaling (sigmoid) o aumentar la regularización del modelo; para decisiones operativas, ajustar el umbral sobre las probabilidades calibradas según la curva PR/threshold.\n"
      ]
    },
    {
      "cell_type": "markdown",
      "metadata": {
        "id": "uW4ua_Gm2t7k"
      },
      "source": [
        "Mucho éxito!\n",
        "\n",
        "<center>\n",
        "<img src=\"https://i.pinimg.com/originals/55/3d/42/553d42bea9b10e0662a05aa8726fc7f4.gif\" width=300>"
      ]
    },
    {
      "cell_type": "markdown",
      "metadata": {},
      "source": []
    }
  ],
  "metadata": {
    "colab": {
      "collapsed_sections": [
        "k-ao0mOU64Ru",
        "Jg_9jBqtgRDO",
        "JdcucZhp-M_0",
        "Qfre1YsSDqla",
        "Bv1HOfcNEPF4",
        "poc9HSNBFeKO",
        "uy5VMU6ae_g6",
        "9bL2m8nNojXM",
        "rD8pQ5Zfq8dE",
        "K8DSS3u1xMpB",
        "PTG5cH9r3M9g"
      ],
      "provenance": []
    },
    "kernelspec": {
      "display_name": ".venv311",
      "language": "python",
      "name": "python3"
    },
    "language_info": {
      "codemirror_mode": {
        "name": "ipython",
        "version": 3
      },
      "file_extension": ".py",
      "mimetype": "text/x-python",
      "name": "python",
      "nbconvert_exporter": "python",
      "pygments_lexer": "ipython3",
      "version": "3.11.9"
    }
  },
  "nbformat": 4,
  "nbformat_minor": 0
}
